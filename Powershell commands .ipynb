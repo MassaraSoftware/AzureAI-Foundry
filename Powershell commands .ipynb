{
 "cells": [
  {
   "cell_type": "markdown",
   "id": "2384b8a8-4900-4765-a4bd-1862d7717393",
   "metadata": {},
   "source": [
    "#### Powershell commands "
   ]
  },
  {
   "cell_type": "markdown",
   "id": "706f24cc-771e-42b3-a4d2-2b9c957045d4",
   "metadata": {},
   "source": [
    "If you don’t want to close PowerShell, you just don’t want to *see the long path* `C:\\Users\\massa\\Desktop\\Python\\Reference\\AzureAI-Foundry>` every time.\n",
    "\n",
    "That’s the **current working directory** showing in your prompt. There are a few ways to shorten or hide it:\n",
    "\n",
    "---\n",
    "\n",
    "#### 🔹 Option 1: Move back to your user home\n",
    "\n",
    "If you don’t want to sit inside the `AzureAI-Foundry` folder, just go “home”:\n",
    "\n",
    "```powershell\n",
    "cd ~\n",
    "```\n",
    "\n",
    "Prompt becomes:\n",
    "\n",
    "```\n",
    "C:\\Users\\massa>\n",
    "```\n",
    "\n",
    "---\n",
    "\n",
    "#### 🔹 Option 2: Change to a shorter folder\n",
    "\n",
    "For example:\n",
    "\n",
    "```powershell\n",
    "cd C:\\\n",
    "```\n",
    "\n",
    "Prompt becomes:\n",
    "\n",
    "```\n",
    "C:\\>\n",
    "```\n",
    "\n",
    "---\n",
    "\n",
    "#### 🔹 Option 3: Customize PowerShell prompt\n",
    "\n",
    "If you *like staying in `AzureAI-Foundry`* but don’t want to see the full path, you can customize your prompt to show only the folder name:\n",
    "\n",
    "In PowerShell, run:\n",
    "\n",
    "```powershell\n",
    "function prompt { \"PS \" + (Split-Path -Leaf (Get-Location)) + \"> \" }\n",
    "```\n",
    "\n",
    "Now your prompt will look like:\n",
    "\n",
    "```\n",
    "PS AzureAI-Foundry>\n",
    "```\n",
    "\n",
    "👉 This only lasts for the current session. To make it permanent, you’d add that line into your PowerShell profile file.\n",
    "\n",
    "---\n",
    "\n"
   ]
  },
  {
   "cell_type": "markdown",
   "id": "094903a4-0ffb-4242-88a7-01e6fda7c556",
   "metadata": {},
   "source": [
    "**How to Exit kubectl port-forward**\n",
    "\n",
    "Go to the PowerShell window where it’s running.\n",
    "\n",
    "Press:\n",
    "\n",
    "CTRL + C"
   ]
  },
  {
   "cell_type": "markdown",
   "id": "8c597760-a796-46cf-9c2f-d98a645980ab",
   "metadata": {},
   "source": [
    "---"
   ]
  },
  {
   "cell_type": "code",
   "execution_count": null,
   "id": "a174814f-17b0-4c66-920b-92d2b764d675",
   "metadata": {},
   "outputs": [],
   "source": []
  },
  {
   "cell_type": "code",
   "execution_count": null,
   "id": "071774dc-9ab8-4a0c-9dcb-427b7eeee1b5",
   "metadata": {},
   "outputs": [],
   "source": []
  },
  {
   "cell_type": "code",
   "execution_count": null,
   "id": "e1590fb7-0400-4b40-9300-b28f71af1ee8",
   "metadata": {},
   "outputs": [],
   "source": []
  },
  {
   "cell_type": "code",
   "execution_count": null,
   "id": "0e5b54fe-4e6a-4105-8980-d1ce52bc443b",
   "metadata": {},
   "outputs": [],
   "source": []
  },
  {
   "cell_type": "code",
   "execution_count": null,
   "id": "cad32cd2-2091-4027-8e70-e317845d72a3",
   "metadata": {},
   "outputs": [],
   "source": []
  }
 ],
 "metadata": {
  "kernelspec": {
   "display_name": "Python [conda env:base] *",
   "language": "python",
   "name": "conda-base-py"
  },
  "language_info": {
   "codemirror_mode": {
    "name": "ipython",
    "version": 3
   },
   "file_extension": ".py",
   "mimetype": "text/x-python",
   "name": "python",
   "nbconvert_exporter": "python",
   "pygments_lexer": "ipython3",
   "version": "3.12.7"
  }
 },
 "nbformat": 4,
 "nbformat_minor": 5
}
