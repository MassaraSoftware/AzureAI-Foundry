{
 "cells": [
  {
   "cell_type": "markdown",
   "id": "4f1303c2-681e-4281-aa2e-716ab3f65673",
   "metadata": {},
   "source": [
    "#### 📘 Installing Chocolatey (Windows 10/11)\n",
    "\n",
    "---\n",
    "\n",
    "#### 📖 Title\n",
    "\n",
    "Install Chocolatey Package Manager on Windows\n",
    "\n",
    "---"
   ]
  },
  {
   "cell_type": "markdown",
   "id": "a162f26c-2e7c-45e9-b0cc-fba6db8cbae8",
   "metadata": {},
   "source": [
    "#### 📌 Purpose\n",
    "\n",
    "Chocolatey is a **package manager for Windows**, similar to `apt` (Linux) or `brew` (Mac).\n",
    "It allows you to:\n",
    "\n",
    "* Install tools with a single command (e.g., `choco install kubernetes-helm -y`).\n",
    "* Keep tools updated (`choco upgrade all`).\n",
    "* Avoid manual downloading and PATH editing.\n",
    "\n",
    "We need Chocolatey for installing **Helm** and possibly other dependencies later.\n",
    "\n",
    "---"
   ]
  },
  {
   "cell_type": "markdown",
   "id": "b61f1052-55d3-474d-afd6-4dedfb861137",
   "metadata": {},
   "source": [
    "#### 1. Open PowerShell as Administrator\n",
    "\n",
    "1. Click **Start Menu** → search for **PowerShell**.\n",
    "2. Right-click → **Run as Administrator**.\n",
    "\n",
    "   * ⚠️ This is required because Chocolatey modifies system PATH.\n",
    "\n",
    "---"
   ]
  },
  {
   "cell_type": "markdown",
   "id": "42412f23-caa8-4089-971c-7e4069b2dd85",
   "metadata": {},
   "source": [
    "\n",
    "#### 2. Enable Script Execution\n",
    "\n",
    "Run this command in Administrator PowerShell:\n",
    "\n",
    "```powershell\n",
    "Set-ExecutionPolicy Bypass -Scope Process -Force\n",
    "```\n",
    "\n",
    "✅ This temporarily allows PowerShell to run installation scripts.\n",
    "\n",
    "---"
   ]
  },
  {
   "cell_type": "markdown",
   "id": "6f577e3e-df2c-4e54-b248-4429229370c3",
   "metadata": {},
   "source": [
    "#### 3. Install Chocolatey\n",
    "\n",
    "Run the official install script:\n",
    "\n",
    "```powershell\n",
    "[System.Net.ServicePointManager]::SecurityProtocol = [System.Net.ServicePointManager]::SecurityProtocol -bor 3072; iex ((New-Object System.Net.WebClient).DownloadString('https://community.chocolatey.org/install.ps1'))\n",
    "```\n",
    "\n",
    "This will:\n",
    "\n",
    "* Download Chocolatey installer.\n",
    "* Install it under `C:\\ProgramData\\chocolatey\\bin`.\n",
    "* Add it to your PATH.\n",
    "\n"
   ]
  },
  {
   "cell_type": "markdown",
   "id": "4e3b2411-9cbe-4f28-b271-2db686d4c5a2",
   "metadata": {},
   "source": [
    "✅ <u>**Expected output** </u>"
   ]
  },
  {
   "cell_type": "code",
   "execution_count": null,
   "id": "f6975baf-950e-41b9-a104-33103574717a",
   "metadata": {},
   "outputs": [],
   "source": [
    "(base) C:\\WINDOWS\\system32> [System.Net.ServicePointManager]::SecurityProtocol = [System.Net.ServicePointManager]::SecurityProtocol -bor 3072; iex ((New-Object System.Net.WebClient).DownloadString('https://community.chocolatey.org/install.ps1'))                                                                                                                   Forcing web requests to allow TLS v1.2 (Required for requests to Chocolatey.org)                                        Getting latest version of the Chocolatey package for download.                                                          Not using proxy.                                                                                                        Getting Chocolatey from https://community.chocolatey.org/api/v2/package/chocolatey/2.5.1.                               Downloading https://community.chocolatey.org/api/v2/package/chocolatey/2.5.1 to C:\\Users\\massa\\AppData\\Local\\Temp\\chocolatey\\chocoInstall\\chocolatey.zip\n",
    "Not using proxy.\n",
    "Extracting C:\\Users\\massa\\AppData\\Local\\Temp\\chocolatey\\chocoInstall\\chocolatey.zip to C:\\Users\\massa\\AppData\\Local\\Temp\\chocolatey\\chocoInstall\n",
    "Installing Chocolatey on the local machine\n",
    "Creating ChocolateyInstall as an environment variable (targeting 'Machine')\n",
    "  Setting ChocolateyInstall to 'C:\\ProgramData\\chocolatey'\n",
    "WARNING: It's very likely you will need to close and reopen your shell\n",
    "  before you can use choco.\n",
    "Restricting write permissions to Administrators\n",
    "We are setting up the Chocolatey package repository.\n",
    "The packages themselves go to 'C:\\ProgramData\\chocolatey\\lib'\n",
    "  (i.e. C:\\ProgramData\\chocolatey\\lib\\yourPackageName).\n",
    "A shim file for the command line goes to 'C:\\ProgramData\\chocolatey\\bin'\n",
    "  and points to an executable in 'C:\\ProgramData\\chocolatey\\lib\\yourPackageName'.\n",
    "\n",
    "Creating Chocolatey CLI folders if they do not already exist.\n",
    "\n",
    "chocolatey.nupkg file not installed in lib.\n",
    " Attempting to locate it from bootstrapper.\n",
    "PATH environment variable does not have C:\\ProgramData\\chocolatey\\bin in it. Adding...\n",
    "Adding Chocolatey to the profile. This will provide tab completion, refreshenv, etc.\n",
    "WARNING: Chocolatey profile installed. Reload your profile - type . $profile\n",
    "Chocolatey CLI (choco.exe) is now ready.\n",
    "You can call choco from anywhere, command line or PowerShell by typing choco.\n",
    "Run choco /? for a list of functions.\n",
    "You may need to shut down and restart PowerShell and/or consoles\n",
    " first prior to using choco.\n",
    "Ensuring Chocolatey commands are on the path\n",
    "Ensuring chocolatey.nupkg is in the lib folder"
   ]
  },
  {
   "cell_type": "markdown",
   "id": "ad7b4cd1-7087-4723-b460-a7f2828a3f61",
   "metadata": {},
   "source": [
    "---"
   ]
  },
  {
   "cell_type": "markdown",
   "id": "e379d5fb-ec2a-443f-9e89-2a298bcc043d",
   "metadata": {},
   "source": [
    "#### 4. Verify Installation\n",
    "\n",
    "Close the Administrator PowerShell window, then open a **new normal PowerShell window**.\n",
    "\n",
    "Run:\n",
    "\n",
    "```powershell\n",
    "choco --version\n",
    "```\n",
    "\n",
    "✅ Expected output (example):\n",
    "\n",
    "```\n",
    "2.3.0\n",
    "```"
   ]
  },
  {
   "cell_type": "markdown",
   "id": "f31fc9c1-bf5e-4d55-b744-93f338acc20e",
   "metadata": {},
   "source": [
    "✅ Actual output - Massara:"
   ]
  },
  {
   "cell_type": "markdown",
   "id": "48623c27-4120-4506-9f80-ac9e2d564fb5",
   "metadata": {},
   "source": [
    "(base) C:\\WINDOWS\\system32> choco --version  \n",
    "2.5.1"
   ]
  },
  {
   "cell_type": "markdown",
   "id": "5ab7918b-35c2-4e27-8420-c9641194b369",
   "metadata": {},
   "source": [
    "---\n",
    "\n",
    "#### 📊 Summary\n",
    "\n",
    "At this point:\n",
    "\n",
    "* ✅ Chocolatey is installed.\n",
    "* ✅ You can use `choco install <package>` for future installations.\n",
    "* ✅ Ready to proceed with installing Helm (`choco install kubernetes-helm -y`).\n",
    "\n",
    "---\n",
    "\n",
    "👉 Do you want me to **update `05_helm_installation.md`** so it includes the Chocolatey installation steps at the top, or keep Chocolatey as a **separate doc (`05a_chocolatey_installation.md`)** so your setup remains modular?\n"
   ]
  },
  {
   "cell_type": "markdown",
   "id": "e0b3aff5-6eb7-4b0c-aa1f-b280ab717536",
   "metadata": {},
   "source": [
    "---"
   ]
  }
 ],
 "metadata": {
  "kernelspec": {
   "display_name": "Python [conda env:base] *",
   "language": "python",
   "name": "conda-base-py"
  },
  "language_info": {
   "codemirror_mode": {
    "name": "ipython",
    "version": 3
   },
   "file_extension": ".py",
   "mimetype": "text/x-python",
   "name": "python",
   "nbconvert_exporter": "python",
   "pygments_lexer": "ipython3",
   "version": "3.12.7"
  }
 },
 "nbformat": 4,
 "nbformat_minor": 5
}
