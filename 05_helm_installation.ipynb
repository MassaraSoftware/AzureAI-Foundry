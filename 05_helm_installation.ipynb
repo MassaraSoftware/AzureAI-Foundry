{
 "cells": [
  {
   "cell_type": "markdown",
   "id": "dda0b01c-6b2f-425b-8ed2-9a3f023378d2",
   "metadata": {},
   "source": [
    "#### 📄 `05_helm_installation.md`\n",
    "\n",
    "📂 Save to:\n",
    "\n",
    "```\n",
    "C:\\Users\\massa\\Desktop\\Python\\Reference\\AzureAI-Foundry\\05_helm_installation.md\n",
    "```\n",
    "\n",
    "---\n",
    "\n",
    "#### 📘 Azure AI Foundry — Installing Helm\n",
    "\n",
    "---\n",
    "\n",
    "#### 📖 Title\n",
    "\n",
    "Install and Configure Helm (Kubernetes Package Manager)\n",
    "\n",
    "---\n",
    "\n",
    "#### 📌 Purpose\n",
    "\n",
    "Helm is the **package manager for Kubernetes**.\n",
    "It is used to:\n",
    "\n",
    "* Install, upgrade, and manage Kubernetes applications with **Helm Charts**.\n",
    "* Simplify deployments by packaging apps into reusable templates.\n",
    "* Manage complex workloads (databases, monitoring tools, ML pipelines) with one command.\n",
    "\n",
    "Helm will be important later when deploying **AI agents**, **data pipelines**, or **monitoring stacks** on Kubernetes (local or AKS).\n",
    "\n",
    "---\n"
   ]
  },
  {
   "cell_type": "markdown",
   "id": "e79f7944-fc15-41ea-a4c8-7691430a7759",
   "metadata": {},
   "source": [
    "#### 0. Open PowerShell as Administrator\n",
    "\n",
    "1. Click **Start Menu** → search for **PowerShell**.\n",
    "2. Right-click → **Run as Administrator**."
   ]
  },
  {
   "cell_type": "markdown",
   "id": "ae3067ba-49a2-4430-9518-fdd181ecf8c0",
   "metadata": {},
   "source": [
    "\n",
    "#### 1. Install Helm\n",
    "\n",
    "Since Chocolatey is already installed (`05a_chocolatey_installation.md`), install Helm with:\n",
    "\n",
    "```powershell\n",
    "choco install kubernetes-helm -y\n",
    "```\n",
    "\n",
    "This will:\n",
    "\n",
    "* Download the latest Helm release.\n",
    "* Install it into `C:\\ProgramData\\chocolatey\\bin`.\n",
    "* Add it to your PATH automatically.\n"
   ]
  },
  {
   "cell_type": "markdown",
   "id": "18a58e81-4f4d-40dc-8b26-0039164e0302",
   "metadata": {},
   "source": [
    "✅ <u>**Expected output** </u>"
   ]
  },
  {
   "cell_type": "code",
   "execution_count": null,
   "id": "1a5d5856-f899-4296-96cb-93309125b91d",
   "metadata": {},
   "outputs": [],
   "source": [
    "(base) C:\\WINDOWS\\system32> choco install kubernetes-helm -y\n",
    "Chocolatey v2.5.1\n",
    "Installing the following packages:\n",
    "kubernetes-helm\n",
    "By installing, you accept licenses for the packages.\n",
    "Downloading package from source 'https://community.chocolatey.org/api/v2/'\n",
    "\n",
    "kubernetes-helm v3.18.6 [Approved]\n",
    "kubernetes-helm package files install completed. Performing other installation steps.\n",
    "Downloading kubernetes-helm 64 bit\n",
    "  from 'https://get.helm.sh/helm-v3.18.6-windows-amd64.zip'\n",
    "Progress: 100% - Completed download of C:\\Users\\massa\\AppData\\Local\\Temp\\chocolatey\\kubernetes-helm\\3.18.6\\helm-v3.18.6-windows-amd64.zip (17.59 MB).\n",
    "Download of helm-v3.18.6-windows-amd64.zip (17.59 MB) completed.\n",
    "Hashes match.\n",
    "      \n",
    "Extracting C:\\Users\\massa\\AppData\\Local\\Temp\\chocolatey\\kubernetes-helm\\3.18.6\\helm-v3.18.6-windows-amd64.zip to C:\\ProgramData\\chocolatey\\lib\\kubernetes-helm\\tools...\n",
    "C:\\ProgramData\\chocolatey\\lib\\kubernetes-helm\\tools\n",
    " ShimGen has successfully created a shim for helm.exe\n",
    " The install of kubernetes-helm was successful.\n",
    "  Deployed to 'C:\\ProgramData\\chocolatey\\lib\\kubernetes-helm\\tools'\n",
    "\n",
    "Chocolatey installed 1/1 packages.\n",
    " See the log for details (C:\\ProgramData\\chocolatey\\logs\\chocolatey.log).\n",
    "\n",
    "Enjoy using Chocolatey? Explore more amazing features to take your\n",
    "experience to the next level at\n",
    " https://chocolatey.org/compare"
   ]
  },
  {
   "cell_type": "markdown",
   "id": "13948336-44f7-4032-8052-bacf634472a6",
   "metadata": {},
   "source": [
    "---"
   ]
  },
  {
   "cell_type": "markdown",
   "id": "c6d30b38-01ee-4710-8601-643591714ab1",
   "metadata": {},
   "source": [
    "#### 2. Verify Helm Installation\n",
    "\n",
    "Check the version:\n",
    "\n",
    "```powershell\n",
    "helm version\n",
    "```\n",
    "\n",
    "✅ Expected output (example):\n",
    "\n",
    "```\n",
    "version.BuildInfo{Version:\"v3.18.6\", GitCommit:\"...\", GoVersion:\"go1.24.6\", Compiler:\"gc\", Platform:\"windows/amd64\"}\n",
    "```"
   ]
  },
  {
   "cell_type": "markdown",
   "id": "4b86c0a4-d4a9-4405-ac03-37b2c078e86e",
   "metadata": {},
   "source": [
    "✅ <u>**Actual output - Massara**</u>:"
   ]
  },
  {
   "cell_type": "code",
   "execution_count": null,
   "id": "4c40acb1-f3a2-4a5d-a966-cf49da7abe1b",
   "metadata": {},
   "outputs": [],
   "source": [
    "version.BuildInfo{Version:\"v3.18.6\", GitCommit:\"b76a950f6835474e0906b96c9ec68a2eff3a6430\", GitTreeState:\"clean\", GoVersion:\"go1.24.6\"}"
   ]
  },
  {
   "cell_type": "markdown",
   "id": "ee574677-59f0-4666-b2ce-af9a9d318879",
   "metadata": {},
   "source": [
    "\n",
    "---"
   ]
  },
  {
   "cell_type": "markdown",
   "id": "f9defa32-3674-401d-abd2-2719c37603c8",
   "metadata": {},
   "source": [
    "#### 3. Verify Helm with Chocolatey (v2.5+)\n",
    "\n",
    "Since Chocolatey v2.5 removed the `-lo` option, the best way to confirm Helm is tracked by Chocolatey is to check the **local packages folder**:\n",
    "\n",
    "```powershell\n",
    "dir \"C:\\ProgramData\\chocolatey\\lib\"\n",
    "```\n",
    "\n",
    "✅ Expected result:\n",
    "\n",
    "```\n",
    "Directory: C:\\ProgramData\\chocolatey\\lib\n",
    "\n",
    "Mode                 LastWriteTime         Length Name\n",
    "----                 -------------         ------ ----\n",
    "d-----    <date>                       chocolatey\n",
    "d-----    <date>                       kubernetes-helm\n",
    "```\n",
    "\n",
    "If `kubernetes-helm` is present, Helm is tracked correctly by Chocolatey."
   ]
  },
  {
   "cell_type": "markdown",
   "id": "0d3d20cc-67af-4bcd-b471-b20f424f7eac",
   "metadata": {},
   "source": [
    "✅ <u>**Actual output - Massara**</u>:"
   ]
  },
  {
   "cell_type": "code",
   "execution_count": null,
   "id": "0e9939bc-0d6c-4774-ae41-e60f427c0f13",
   "metadata": {},
   "outputs": [],
   "source": [
    "(base) C:\\Users\\massa> dir \"C:\\ProgramData\\chocolatey\\lib\"\n",
    "\n",
    "\n",
    "    Directory: C:\\ProgramData\\chocolatey\\lib\n",
    "\n",
    "\n",
    "Mode                 LastWriteTime         Length Name\n",
    "----                 -------------         ------ ----\n",
    "d-----         9/27/2025   2:29 AM                chocolatey\n",
    "d-----         9/27/2025   2:48 AM                kubernetes-helm"
   ]
  },
  {
   "cell_type": "markdown",
   "id": "1e6646b8-2c14-4201-80ec-878420d6890c",
   "metadata": {},
   "source": [
    "---"
   ]
  },
  {
   "cell_type": "markdown",
   "id": "0515161d-fc36-4366-a1c3-26098e0b59f2",
   "metadata": {},
   "source": [
    "#### 4. Add Helm Repositories\n",
    "\n",
    "Helm uses **repositories** to store charts. Add the most common one (**Bitnami**):\n",
    "\n",
    "```powershell\n",
    "helm repo add bitnami https://charts.bitnami.com/bitnami\n",
    "```\n",
    "\n",
    "Update repositories:\n",
    "\n",
    "```powershell\n",
    "helm repo update\n",
    "```\n",
    "\n",
    "✅ Expected output:\n",
    "\n",
    "```\n",
    "...Successfully got an update from the \"bitnami\" chart repository\n",
    "Update Complete. ⎈Happy Helming!⎈\n",
    "```\n",
    "\n"
   ]
  },
  {
   "cell_type": "markdown",
   "id": "5acf17b8-5688-4a1e-9f6d-d5cef6730e06",
   "metadata": {},
   "source": [
    "✅ <u>**Actual output - Massara**</u>:"
   ]
  },
  {
   "cell_type": "code",
   "execution_count": null,
   "id": "1ec7ea56-b650-4695-8280-7646728dcb23",
   "metadata": {},
   "outputs": [],
   "source": [
    "(base) C:\\WINDOWS\\system32> helm repo update\n",
    "Hang tight while we grab the latest from your chart repositories...\n",
    "...Successfully got an update from the \"jetstack\" chart repository\n",
    "...Successfully got an update from the \"rancher-latest\" chart repository\n",
    "...Successfully got an update from the \"bitnami\" chart repository\n",
    "Update Complete. ⎈Happy Helming!⎈"
   ]
  },
  {
   "cell_type": "markdown",
   "id": "ec860dfd-c1ff-42ff-a4e5-fd6f3ede24b0",
   "metadata": {},
   "source": [
    "---"
   ]
  },
  {
   "cell_type": "markdown",
   "id": "888f3230-30da-441e-9508-99b2f5c3889c",
   "metadata": {},
   "source": [
    "\n",
    "#### 5. Optional — Uninstall Helm\n",
    "\n",
    "If you need to remove Helm:\n",
    "\n",
    "```powershell\n",
    "choco uninstall kubernetes-helm -y\n",
    "```\n",
    "\n",
    "Verify it’s gone:\n",
    "\n",
    "```powershell\n",
    "helm version\n",
    "```\n",
    "\n",
    "✅ Expected result:\n",
    "\n",
    "```\n",
    "helm : The term 'helm' is not recognized...\n",
    "```\n",
    "\n",
    "Also check Chocolatey’s lib folder:\n",
    "\n",
    "```powershell\n",
    "dir \"C:\\ProgramData\\chocolatey\\lib\"\n",
    "```\n",
    "\n",
    "`kubernetes-helm` should no longer appear.\n",
    "\n",
    "---\n",
    "\n",
    "#### 📊 Summary\n",
    "\n",
    "At this point:\n",
    "\n",
    "* ✅ Installed Helm with `choco install kubernetes-helm`.\n",
    "* ✅ Verified installation with `helm version`.\n",
    "* ✅ Verified Chocolatey tracking via `C:\\ProgramData\\chocolatey\\lib`.\n",
    "* ✅ Added **Bitnami** repository and updated repos.\n",
    "* ✅ Learned how to uninstall Helm if needed.\n",
    "\n",
    "Helm is now installed, tracked by Chocolatey, and ready for use.\n",
    "\n",
    "👉 To test Helm with a real deployment (NGINX), see:\n",
    "📄 `05b_helm_nginx_demo.md`\n",
    "\n",
    "---\n",
    "\n",
    "Would you like me to also **update `05a_chocolatey_installation.md`** with these same Chocolatey v2.5 verification steps (check the `lib` folder), so both docs are aligned?\n"
   ]
  },
  {
   "cell_type": "markdown",
   "id": "9688deb6-1197-4995-9c15-2c3f5c3a864a",
   "metadata": {},
   "source": [
    "---"
   ]
  },
  {
   "cell_type": "code",
   "execution_count": null,
   "id": "828d6265-ca82-47cc-8a1a-0d55578bfb8d",
   "metadata": {},
   "outputs": [],
   "source": []
  }
 ],
 "metadata": {
  "kernelspec": {
   "display_name": "Python [conda env:base] *",
   "language": "python",
   "name": "conda-base-py"
  },
  "language_info": {
   "codemirror_mode": {
    "name": "ipython",
    "version": 3
   },
   "file_extension": ".py",
   "mimetype": "text/x-python",
   "name": "python",
   "nbconvert_exporter": "python",
   "pygments_lexer": "ipython3",
   "version": "3.12.7"
  }
 },
 "nbformat": 4,
 "nbformat_minor": 5
}
