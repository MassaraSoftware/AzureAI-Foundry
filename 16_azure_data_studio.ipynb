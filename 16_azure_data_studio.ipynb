{
 "cells": [
  {
   "cell_type": "markdown",
   "id": "869ad33f-ed94-479c-a499-3648116a06cb",
   "metadata": {},
   "source": [
    "#### 📘 Azure AI Foundry — Azure Data Studio Setup\n",
    "\n",
    "#### 📖 Title\n",
    "\n",
    "Install and Configure **Azure Data Studio (ADS)**\n",
    "\n",
    "#### 📌 Purpose\n",
    "\n",
    "Azure Data Studio is a lightweight, cross-platform database management tool.\n",
    "It is especially useful for:\n",
    "\n",
    "* Managing **SQL Server** and **PostgreSQL** in one place.\n",
    "* Running queries, exploring schemas, and visualizing results.\n",
    "* Alternative to SSMS (for SQL Server) and pgAdmin (for PostgreSQL).\n",
    "* Handy for **ETL testing** because it lets you query both databases side by side.\n",
    "\n",
    "---\n",
    "\n",
    "#### 1. Install Azure Data Studio\n",
    "\n",
    "📥 Download:\n",
    "👉 [Azure Data Studio Download](https://learn.microsoft.com/en-us/sql/azure-data-studio/download-azure-data-studio)\n",
    "\n",
    "Choose **Windows System Installer (.exe)**.\n",
    "Run installer → accept defaults.\n",
    "\n",
    "---"
   ]
  },
  {
   "cell_type": "markdown",
   "id": "927caf48-d54d-4b81-9322-51235a6113b9",
   "metadata": {},
   "source": [
    "#### 2. Connect to SQL Server\n",
    "\n",
    "1. Open **Azure Data Studio**.\n",
    "2. Click **New Connection**.\n",
    "3. Fill in:\n",
    "\n",
    "* **Server**: `AI`\n",
    "* **Authentication type**: `SQL Login`\n",
    "* **User name**: `sa`\n",
    "* **Password**: `Mass592322`\n",
    "* ✅ Check “Remember password”\n",
    "\n",
    "4. Click **Connect**.\n",
    "\n",
    "You should see your databases (e.g., `master`, `TestDB`).\n",
    "\n",
    "---"
   ]
  },
  {
   "cell_type": "markdown",
   "id": "d50c216f-c52d-47bc-aa79-89449eb6b463",
   "metadata": {},
   "source": [
    "\n",
    "#### 3. Connect to PostgreSQL\n",
    "\n",
    "Azure Data Studio does not ship with PostgreSQL support by default — you need the **PostgreSQL extension**.\n",
    "\n",
    "1. In Azure Data Studio, go to **Extensions (Ctrl+Shift+X)**.\n",
    "2. Search for **PostgreSQL** → install it.\n",
    "3. Then create a new connection:\n",
    "\n",
    "* **Server**: `localhost`\n",
    "* **Port**: `5432`\n",
    "* **Database**: `postgres`\n",
    "* **User name**: `postgres`\n",
    "* **Password**: `Mass592322`\n",
    "\n",
    "✅ Now you can query PostgreSQL directly from ADS.\n",
    "\n",
    "---\n"
   ]
  },
  {
   "cell_type": "markdown",
   "id": "ae9e1cc2-4089-45b2-b3ac-9a4e674f61e9",
   "metadata": {},
   "source": [
    "\n",
    "#### 4. Run a Test Query\n",
    "\n",
    "SQL Server:\n",
    "\n",
    "```sql\n",
    "SELECT @@VERSION;\n",
    "```\n",
    "\n",
    "PostgreSQL:\n",
    "\n",
    "```sql\n",
    "SELECT version();\n",
    "```\n",
    "\n",
    "✅ Both should return version info confirming connections.\n",
    "\n",
    "---"
   ]
  },
  {
   "cell_type": "markdown",
   "id": "356a005f-f193-4ac8-ad86-bf784d4074ef",
   "metadata": {},
   "source": [
    "#### 5. Why Use Azure Data Studio?\n",
    "\n",
    "* Lightweight alternative to SSMS + pgAdmin.\n",
    "* One tool for both SQL Server + PostgreSQL.\n",
    "* Great for quick testing while building Python ETL pipelines.\n",
    "* Extensions marketplace (Git, Jupyter, schema compare, etc.).\n",
    "\n",
    "---\n",
    "\n",
    "#### 📊 Summary\n",
    "\n",
    "* Installed **Azure Data Studio**.\n",
    "* Connected successfully to **SQL Server** (`AI`) and **PostgreSQL** (`localhost`).\n",
    "* Verified both by running queries.\n",
    "* Optional but recommended if you prefer a **single unified tool** for managing databases.\n",
    "\n",
    "📂 Save as:\n",
    "\n",
    "```\n",
    "16_azure_data_studio.md\n",
    "```\n",
    "\n",
    "---\n",
    "\n",
    "Would you like me to also prepare a **screenshot-based mini-guide** (with captions like “Click New Connection → Enter details → Connect”) so you can embed visuals into your documentation?\n"
   ]
  },
  {
   "cell_type": "code",
   "execution_count": null,
   "id": "4cbf9b34-6d35-41f6-a0a4-b9cdc00c4aad",
   "metadata": {},
   "outputs": [],
   "source": []
  }
 ],
 "metadata": {
  "kernelspec": {
   "display_name": "Python [conda env:base] *",
   "language": "python",
   "name": "conda-base-py"
  },
  "language_info": {
   "codemirror_mode": {
    "name": "ipython",
    "version": 3
   },
   "file_extension": ".py",
   "mimetype": "text/x-python",
   "name": "python",
   "nbconvert_exporter": "python",
   "pygments_lexer": "ipython3",
   "version": "3.12.7"
  }
 },
 "nbformat": 4,
 "nbformat_minor": 5
}
