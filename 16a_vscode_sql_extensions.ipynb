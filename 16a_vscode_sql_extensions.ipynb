{
 "cells": [
  {
   "cell_type": "markdown",
   "id": "aa138d48-3aa2-41ec-bdaf-fd4bdcb64eca",
   "metadata": {},
   "source": [
    "#### 📘 Azure AI Foundry — SQL Extensions in VS Code\n",
    "\n",
    "#### 📖 Title\n",
    "\n",
    "Using VS Code Extensions to Connect to SQL Server & PostgreSQL\n",
    "\n",
    "#### 📌 Purpose\n",
    "\n",
    "Since **Azure Data Studio** will retire in 2026, we’ll use **Visual Studio Code** for all SQL work.\n",
    "By installing the **mssql** (SQL Server) and **pgsql** (PostgreSQL) extensions, you can query and manage both databases directly from your VS Code workspace.\n",
    "\n",
    "---"
   ]
  },
  {
   "cell_type": "markdown",
   "id": "b90695c2-8543-4ca2-8291-f7b1b5b3e551",
   "metadata": {},
   "source": [
    "#### 1. Install Extensions\n",
    "\n",
    "✅ **Option A — From Command Line (PowerShell)**\n",
    "\n",
    "```powershell\n",
    "code --install-extension ms-mssql.mssql\n",
    "code --install-extension cweijan.vscode-postgresql-client2\n",
    "```"
   ]
  },
  {
   "cell_type": "markdown",
   "id": "ff271cec-d5bf-4318-b81a-cea01f4dc6dc",
   "metadata": {},
   "source": [
    "✅<u>**Actual Output - Masssara**</u>"
   ]
  },
  {
   "cell_type": "code",
   "execution_count": null,
   "id": "234c8274-ad3d-4957-be11-39dda032dc97",
   "metadata": {},
   "outputs": [],
   "source": [
    "Loading personal and system profiles took 1168ms.\n",
    "C:\\Users\\massa> code --install-extension ms-mssql.mssql\n",
    "Installing extensions...\n",
    "Installing extension 'ms-mssql.mssql'...\n",
    "Extension 'ms-mssql.sql-bindings-vscode' v0.4.1 was successfully installed.\n",
    "Extension 'ms-mssql.mssql' v1.36.0 was successfully installed.\n",
    "Extension 'ms-mssql.sql-database-projects-vscode' v1.5.4 was successfully installed.\n",
    "Extension 'ms-mssql.data-workspace-vscode' v0.6.3 was successfully installed.\n",
    "C:\\Users\\massa> code --install-extension cweijan.vscode-postgresql-client2\n",
    "Installing extensions...\n",
    "Installing extension 'cweijan.vscode-postgresql-client2'...\n",
    "Extension 'cweijan.vscode-postgresql-client2' v8.4.2 was successfully installed.\n",
    "Extension 'cweijan.dbclient-jdbc' v1.4.6 was successfully installed."
   ]
  },
  {
   "cell_type": "markdown",
   "id": "344d3a99-adc8-4c69-871d-7d0ad519cd37",
   "metadata": {},
   "source": [
    "Verify:\n",
    "\n",
    "```powershell\n",
    "code --list-extensions | findstr mssql\n",
    "code --list-extensions | findstr postgresql\n",
    "```\n",
    "\n",
    "---"
   ]
  },
  {
   "cell_type": "markdown",
   "id": "b578cab2-ffb3-479d-9fe9-44f412321287",
   "metadata": {},
   "source": [
    "✅ **Option B — From Inside VS Code (GUI)**\n",
    "\n",
    "1. Open **Visual Studio Code**.\n",
    "2. Press **Ctrl+Shift+X** (or click the **Extensions icon** on the left sidebar).\n",
    "3. In the search bar:\n",
    "\n",
    "   * Type `mssql` → install **SQL Server (mssql)**.\n",
    "   * Type `PostgreSQL` → install **PostgreSQL Management Tool** (by cweijan).\n",
    "4. Once installed, you’ll see **database icons** appear in the VS Code sidebar.\n",
    "\n",
    "---"
   ]
  },
  {
   "cell_type": "markdown",
   "id": "2c2630dd-753b-43e4-a3ed-0cd79d6fba2f",
   "metadata": {},
   "source": [
    "#### 2. Connect to SQL Server (mssql extension)\n",
    "\n",
    "1. Press **Ctrl+Shift+P** → search **MS SQL: Connect**.\n",
    "2. Fill in the connection form:\n",
    "\n",
    "* **Host**: `AI`\n",
    "* **Port**: `1433`\n",
    "* **Auth Type**: `SQL Server Auth`\n",
    "* **Username**: `sa`\n",
    "* **Password**: `Mass592322`\n",
    "\n",
    "⚠️ **Important**: Do **not** write `AI,1433` in the host field.\n",
    "\n",
    "* In CLI (`sqlcmd`), you append port with a comma.\n",
    "* In VS Code, use `Host=AI` and set `Port=1433` separately.\n",
    "\n",
    "---"
   ]
  },
  {
   "cell_type": "markdown",
   "id": "081fa9db-f579-4c79-8625-eb1f2302bead",
   "metadata": {},
   "source": [
    "#### 3. Connect to PostgreSQL (pgsql extension)\n",
    "\n",
    "1. Press **Ctrl+Shift+P** → search **PostgreSQL: New Connection**.\n",
    "2. Fill in:\n",
    "\n",
    "* **Host**: `localhost`\n",
    "* **Port**: `5432`\n",
    "* **Database**: `postgres`\n",
    "* **Username**: `postgres`\n",
    "* **Password**: `Mass592322`\n",
    "\n",
    "---"
   ]
  },
  {
   "cell_type": "markdown",
   "id": "0015fda8-ee7e-4026-8eca-fd365d3caeb1",
   "metadata": {},
   "source": [
    "#### 4. Run Test Queries\n",
    "\n",
    "**SQL Server example**:\n",
    "\n",
    "```sql\n",
    "SELECT @@VERSION;\n",
    "```\n",
    "\n",
    "**PostgreSQL example**:\n",
    "\n",
    "```sql\n",
    "SELECT version();\n",
    "```\n",
    "\n",
    "✅ Both should return version info, confirming successful connections.\n",
    "\n",
    "---\n"
   ]
  },
  {
   "cell_type": "markdown",
   "id": "d8e35bad-42e3-4c1f-af6c-6261fc617331",
   "metadata": {},
   "source": [
    "#### 📊 Summary\n",
    "\n",
    "* Installed **mssql** and **pgsql** in VS Code.\n",
    "* Can install either via **PowerShell CLI** or **VS Code Extensions panel**.\n",
    "* Verified working connections:\n",
    "\n",
    "  * SQL Server on `AI:1433`\n",
    "  * PostgreSQL on `localhost:5432`\n",
    "* Queries run directly inside VS Code.\n",
    "\n",
    "📂 Save as:\n",
    "`16a_vscode_sql_extensions.md`\n",
    "\n",
    "---\n",
    "\n",
    "Would you like me to **add screenshots** (like the Extensions Marketplace and Connection panels) to this doc, so it feels more like your other step-by-step guides?\n"
   ]
  },
  {
   "cell_type": "code",
   "execution_count": null,
   "id": "ed6ea796-4db3-49f7-a617-f846c218717d",
   "metadata": {},
   "outputs": [],
   "source": []
  }
 ],
 "metadata": {
  "kernelspec": {
   "display_name": "Python [conda env:base] *",
   "language": "python",
   "name": "conda-base-py"
  },
  "language_info": {
   "codemirror_mode": {
    "name": "ipython",
    "version": 3
   },
   "file_extension": ".py",
   "mimetype": "text/x-python",
   "name": "python",
   "nbconvert_exporter": "python",
   "pygments_lexer": "ipython3",
   "version": "3.12.7"
  }
 },
 "nbformat": 4,
 "nbformat_minor": 5
}
