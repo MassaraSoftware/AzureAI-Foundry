{
 "cells": [
  {
   "cell_type": "markdown",
   "id": "fcb5eaed-b159-4c12-ab9b-a59fed97fd46",
   "metadata": {},
   "source": [
    "---\n",
    "\n",
    "#### 📘 Azure AI Foundry — Docker Desktop Setup\n",
    "\n",
    "#### 📖 Title\n",
    "\n",
    "Install and Configure Docker Desktop\n",
    "\n",
    "#### 📌 Purpose\n",
    "\n",
    "Docker provides the **container runtime** you’ll use for:\n",
    "\n",
    "* Running local containers (apps, agents, databases).\n",
    "* Packaging Python code into reproducible environments.\n",
    "* Enabling Kubernetes (used later for deploying AI agents).\n",
    "\n",
    "Having Docker Desktop properly installed ensures that you can seamlessly move workloads between **local dev** → **Azure Kubernetes Service (AKS)**.\n",
    "\n",
    "---"
   ]
  },
  {
   "cell_type": "markdown",
   "id": "945e2d15-d58d-4f48-94f9-89ef2f7ea878",
   "metadata": {},
   "source": [
    "#### 1. Install Docker Desktop\n",
    "\n",
    "📥 Download: [Docker Desktop for Windows](https://www.docker.com/products/docker-desktop/)\n",
    "\n",
    "Run the installer with default settings:\n",
    "\n",
    "* Enable **WSL 2** (if prompted).\n",
    "* Enable **“Use the WSL 2 based engine”**.\n",
    "\n",
    "---"
   ]
  },
  {
   "cell_type": "markdown",
   "id": "b6549e9b-cb7d-4bb0-a32a-08ecbb4db7a5",
   "metadata": {},
   "source": [
    "\n",
    "#### 2. Verify Installation\n",
    "\n",
    "Open **PowerShell** (not base env):\n",
    "\n",
    "```powershell\n",
    "docker --version\n",
    "```\n",
    "\n",
    "✅ Expected output (your numbers may vary):\n",
    "\n",
    "```\n",
    "Docker version 27.0.3, build xxxxxxx\n",
    "```\n",
    "\n"
   ]
  },
  {
   "cell_type": "markdown",
   "id": "7f813cbb-2cdc-4f72-9a2d-2e134a20f42f",
   "metadata": {},
   "source": [
    "✅<u>**Expected output - Massara**</u>"
   ]
  },
  {
   "cell_type": "code",
   "execution_count": null,
   "id": "567fa686-265c-45fb-b844-8741c1a66a96",
   "metadata": {},
   "outputs": [],
   "source": [
    "C:\\Users\\massa> docker --version\n",
    "Docker version 28.4.0, build d8eb465"
   ]
  },
  {
   "cell_type": "markdown",
   "id": "a88253bb-2ff3-41ff-a28e-e05acb9ab542",
   "metadata": {},
   "source": [
    "---"
   ]
  },
  {
   "cell_type": "markdown",
   "id": "01bf852c-46a7-4cc9-bcf7-f88b803b60ec",
   "metadata": {},
   "source": [
    "#### 3. Test Docker with Hello World\n",
    "\n",
    "Check if Docker can run containers:\n",
    "\n",
    "```powershell\n",
    "docker run hello-world\n",
    "```\n",
    "\n",
    "✅ Expected output:\n",
    "\n",
    "```\n",
    "Hello from Docker!\n",
    "This message shows that your installation appears to be working correctly.\n",
    "```\n",
    "\n",
    "\n"
   ]
  },
  {
   "cell_type": "markdown",
   "id": "67d9308a-200b-48b9-8725-dc868c4ab7e8",
   "metadata": {},
   "source": [
    "✅<u>**Expected output - Massara**</u>"
   ]
  },
  {
   "cell_type": "code",
   "execution_count": null,
   "id": "00054bd3-ac26-4f99-b28f-4d86a462990d",
   "metadata": {},
   "outputs": [],
   "source": [
    "C:\\Users\\massa> docker run hello-world\n",
    "\n",
    "Hello from Docker!\n",
    "This message shows that your installation appears to be working correctly.\n",
    "\n",
    "To generate this message, Docker took the following steps:\n",
    " 1. The Docker client contacted the Docker daemon.\n",
    " 2. The Docker daemon pulled the \"hello-world\" image from the Docker Hub.\n",
    "    (amd64)\n",
    " 3. The Docker daemon created a new container from that image which runs the\n",
    "    executable that produces the output you are currently reading.\n",
    " 4. The Docker daemon streamed that output to the Docker client, which sent it\n",
    "    to your terminal.\n",
    "\n",
    "To try something more ambitious, you can run an Ubuntu container with:\n",
    " $ docker run -it ubuntu bash\n",
    "\n",
    "Share images, automate workflows, and more with a free Docker ID:\n",
    " https://hub.docker.com/\n",
    "\n",
    "For more examples and ideas, visit:\n",
    " https://docs.docker.com/get-started/"
   ]
  },
  {
   "cell_type": "markdown",
   "id": "840910f7-0e9a-4fdf-9ec2-96c0e416b9a0",
   "metadata": {},
   "source": [
    "---"
   ]
  },
  {
   "cell_type": "markdown",
   "id": "2f247f82-36f0-40fd-9ba0-7bdd4662bb39",
   "metadata": {},
   "source": [
    "#### 4. Verify WSL 2 Integration\n",
    "\n",
    "Run in **PowerShell**:\n",
    "\n",
    "```powershell\n",
    "wsl --list --verbose\n",
    "```\n",
    "\n",
    "✅ Expected output:\n",
    "\n",
    "```\n",
    "  NAME              STATE           VERSION\n",
    "* docker-desktop    Running         2\n",
    "```\n",
    "\n",
    "This confirms:\n",
    "\n",
    "* Docker Desktop is installed.\n",
    "* WSL 2 is enabled and running as the container backend.\n",
    "\n"
   ]
  },
  {
   "cell_type": "markdown",
   "id": "013c33e8-db61-43a6-a18c-6273cc2285f3",
   "metadata": {},
   "source": [
    "---"
   ]
  },
  {
   "cell_type": "markdown",
   "id": "30de9be0-bdad-4137-9006-d724fb4238fa",
   "metadata": {},
   "source": [
    "#### 5. Enable Kubernetes in Docker Desktop\n",
    "\n",
    "1. Open **Docker Desktop**.\n",
    "2. Go to **Settings → Kubernetes**.\n",
    "3. ✅ Check **Enable Kubernetes**.\n",
    "4. Click **Apply & Restart**.\n",
    "\n",
    "Verify:\n",
    "\n",
    "```powershell\n",
    "kubectl version --client\n",
    "kubectl get nodes\n",
    "```\n",
    "\n",
    "✅ Expected output:\n",
    "\n",
    "```\n",
    "NAME             STATUS   ROLES           AGE   VERSION\n",
    "docker-desktop   Ready    control-plane   XXd   v1.32.2\n",
    "```"
   ]
  },
  {
   "cell_type": "markdown",
   "id": "0ab95484-f733-4a36-a358-ea7621bba613",
   "metadata": {},
   "source": [
    "✅<u>**Expected Output - Massara**</u>"
   ]
  },
  {
   "cell_type": "code",
   "execution_count": null,
   "id": "2b56bbd2-2675-4a06-b342-df456fb1e83a",
   "metadata": {},
   "outputs": [],
   "source": [
    "C:\\Users\\massa> kubectl version --client\n",
    "Client Version: v1.32.2\n",
    "Kustomize Version: v5.5.0\n",
    "C:\\Users\\massa> kubectl get nodes\n",
    "NAME             STATUS   ROLES           AGE   VERSION\n",
    "docker-desktop   Ready    control-plane   19d   v1.32.2"
   ]
  },
  {
   "cell_type": "markdown",
   "id": "a557f3ef-ba99-40cd-af39-31e6c7ab6d35",
   "metadata": {},
   "source": [
    "---"
   ]
  },
  {
   "cell_type": "markdown",
   "id": "4163aa79-d1c7-4dc6-ae13-1094e68fd2aa",
   "metadata": {},
   "source": [
    "#### 6. (Optional) Adjust Resources\n",
    "\n",
    "If your machine has limited resources, adjust via Docker Desktop:\n",
    "\n",
    "* **Settings → Resources**\n",
    "* CPUs: 4 (or ~50% of cores)\n",
    "* Memory: 8 GB minimum\n",
    "\n",
    "---\n",
    "\n",
    "### 🔹 Toolchain Diagram\n",
    "\n",
    "```\n",
    "         ┌───────────┐\n",
    "         │   Python  │\n",
    "         │ (scripts, │\n",
    "         │ notebooks)│\n",
    "         └─────┬─────┘\n",
    "               │\n",
    "               ▼\n",
    "        ┌──────────────┐\n",
    "        │   Docker     │\n",
    "        │ Containers   │\n",
    "        └─────┬────────┘\n",
    "              │\n",
    "              ▼\n",
    "     ┌─────────────────┐\n",
    "     │ Kubernetes (K8s)│\n",
    "     │   (local → AKS) │\n",
    "     └───────┬─────────┘\n",
    "             │\n",
    "             ▼\n",
    "   ┌─────────────────────┐\n",
    "   │ Azure AI Foundry    │\n",
    "   │ + Cloud Resources   │\n",
    "   └─────────────────────┘\n",
    "```\n",
    "\n",
    "---\n",
    "\n",
    "### 📊 Summary\n",
    "\n",
    "* Docker Desktop installed and verified.\n",
    "* WSL 2 backend enabled (`docker-desktop Running Version 2`).\n",
    "* Hello World container ran successfully.\n",
    "* Kubernetes enabled with working local cluster (`docker-desktop`).\n",
    "\n",
    "📂 Save as:\n",
    "\n",
    "```\n",
    "11_docker_desktop.md\n",
    "```\n",
    "\n",
    "---\n",
    "\n",
    "✅ With this, Docker is fully set up for local dev + Azure integration.\n",
    "\n",
    "---\n",
    "\n",
    "Do you want me to now **move on to documenting PostgreSQL setup (`12_postgresql_installation.md`)**, or would you prefer a quick extra check (e.g., running a sample container like Ubuntu or Postgres) to confirm Docker is working with real workloads?\n"
   ]
  },
  {
   "cell_type": "code",
   "execution_count": null,
   "id": "14574f82-ea48-4635-82cb-39662ed4bdb5",
   "metadata": {},
   "outputs": [],
   "source": []
  }
 ],
 "metadata": {
  "kernelspec": {
   "display_name": "Python [conda env:base] *",
   "language": "python",
   "name": "conda-base-py"
  },
  "language_info": {
   "codemirror_mode": {
    "name": "ipython",
    "version": 3
   },
   "file_extension": ".py",
   "mimetype": "text/x-python",
   "name": "python",
   "nbconvert_exporter": "python",
   "pygments_lexer": "ipython3",
   "version": "3.12.7"
  }
 },
 "nbformat": 4,
 "nbformat_minor": 5
}
