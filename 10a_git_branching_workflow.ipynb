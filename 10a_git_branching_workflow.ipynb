{
 "cells": [
  {
   "cell_type": "markdown",
   "id": "4871e0e2-c953-4a7b-9971-eff3109bf50a",
   "metadata": {},
   "source": [
    "\n",
    "#### 📘 Azure AI Foundry — Advanced Git Branching Workflow (Optional)"
   ]
  },
  {
   "cell_type": "markdown",
   "id": "34156094-5cde-458d-8132-0e5b6aef20a5",
   "metadata": {},
   "source": [
    "* `10_git_workflow.md` → simple solo workflow (just `main`).\n",
    "* `10a_git_branching_workflow.md` → advanced optional guide for when you collaborate.\n",
    "\n",
    "Here’s the advanced one:\n",
    "\n",
    "---\n",
    "\n",
    "#### 📖 Title\n",
    "\n",
    "Feature Branching Workflow with Git\n",
    "\n",
    "#### 📌 Purpose\n",
    "\n",
    "This guide documents a **team-friendly workflow** using branches and pull requests (PRs).\n",
    "It ensures:\n",
    "\n",
    "* `main` always stays stable.\n",
    "* New features and experiments happen in **separate branches**.\n",
    "* Collaboration is easier with reviews and merges.\n",
    "\n",
    "---"
   ]
  },
  {
   "cell_type": "markdown",
   "id": "2d6baee8-cfed-4b87-b0ef-0585b1313aa9",
   "metadata": {},
   "source": [
    "#### 1. Create a New Branch\n",
    "\n",
    "Always branch off `main` before starting work.\n",
    "\n",
    "```powershell\n",
    "# Make sure you're up to date\n",
    "git checkout main\n",
    "git pull origin main\n",
    "\n",
    "# Create a feature branch\n",
    "git checkout -b feature/helm-demo\n",
    "```\n",
    "\n",
    "✅ You are now on branch `feature/helm-demo`.\n",
    "\n",
    "---"
   ]
  },
  {
   "cell_type": "markdown",
   "id": "a8ce2c0c-e885-4137-bcff-e406eeec55f9",
   "metadata": {},
   "source": [
    "\n",
    "#### 2. Work on Your Feature\n",
    "\n",
    "Make changes in your branch. Then stage & commit:\n",
    "\n",
    "```powershell\n",
    "git add .\n",
    "git commit -m \"Add Helm demo documentation and test script\"\n",
    "```\n",
    "\n",
    "---\n",
    "\n",
    "#### 3. Push the Branch to GitHub\n",
    "\n",
    "```powershell\n",
    "git push origin feature/helm-demo\n",
    "```\n",
    "\n",
    "---"
   ]
  },
  {
   "cell_type": "markdown",
   "id": "641c839c-deb7-4f37-80fb-c16c57bb2ef2",
   "metadata": {},
   "source": [
    "\n",
    "#### 4. Open a Pull Request (PR)\n",
    "\n",
    "1. Go to your repo on GitHub → `https://github.com/MassaraSoftware/AzureAI-Foundry`.\n",
    "2. You’ll see a **prompt to create a Pull Request** for `feature/helm-demo`.\n",
    "3. Add a clear title + description:\n",
    "\n",
    "   * Example: *“Add Helm demo documentation and test script”*.\n",
    "4. Submit the PR.\n",
    "\n",
    "---"
   ]
  },
  {
   "cell_type": "markdown",
   "id": "da054edb-7e4a-44f2-9dc6-6a5a81b6c166",
   "metadata": {},
   "source": [
    "#### 5. Review and Merge\n",
    "\n",
    "* If working solo → approve & merge yourself.\n",
    "* If working with a team → teammates review and approve before merging.\n",
    "\n",
    "Merge into `main` via GitHub UI.\n",
    "\n",
    "---"
   ]
  },
  {
   "cell_type": "markdown",
   "id": "a977ee07-86f6-4cb2-b0a9-1e3c048b1e74",
   "metadata": {},
   "source": [
    "#### 6. Clean Up Branches\n",
    "\n",
    "After merge, delete the branch to keep repo clean:\n",
    "\n",
    "```powershell\n",
    "git branch -d feature/helm-demo       # delete local branch\n",
    "git push origin --delete feature/helm-demo   # delete remote branch\n",
    "```\n",
    "\n",
    "---"
   ]
  },
  {
   "cell_type": "markdown",
   "id": "dd646f1c-4801-458d-8c15-30c0e8d5b238",
   "metadata": {},
   "source": [
    "### 📊 Summary\n",
    "\n",
    "* **Solo workflow** = just commit & push to `main`.\n",
    "* **Branching workflow** =\n",
    "\n",
    "  * Create branch → Commit → Push → PR → Merge → Delete branch.\n",
    "\n",
    "✅ Use this workflow **when Nobel Dynamics grows** and you collaborate with teammates.\n",
    "\n",
    "---\n",
    "\n",
    "Would you like me to also **update your `README.md` milestones tracker** to reflect this branching workflow as an *optional advanced step*?\n"
   ]
  },
  {
   "cell_type": "code",
   "execution_count": null,
   "id": "c0cd7723-7210-4e22-be3f-8bdfbb3fd330",
   "metadata": {},
   "outputs": [],
   "source": []
  }
 ],
 "metadata": {
  "kernelspec": {
   "display_name": "Python [conda env:base] *",
   "language": "python",
   "name": "conda-base-py"
  },
  "language_info": {
   "codemirror_mode": {
    "name": "ipython",
    "version": 3
   },
   "file_extension": ".py",
   "mimetype": "text/x-python",
   "name": "python",
   "nbconvert_exporter": "python",
   "pygments_lexer": "ipython3",
   "version": "3.12.7"
  }
 },
 "nbformat": 4,
 "nbformat_minor": 5
}
