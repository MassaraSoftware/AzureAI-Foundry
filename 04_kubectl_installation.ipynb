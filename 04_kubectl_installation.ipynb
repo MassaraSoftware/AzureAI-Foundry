{
 "cells": [
  {
   "cell_type": "markdown",
   "id": "df32ebe9-6a5d-483f-b49d-0cb3cd2d2739",
   "metadata": {},
   "source": [
    "---\n",
    "\n",
    "#### 📘 Azure AI Foundry — Installing kubectl\n"
   ]
  },
  {
   "cell_type": "markdown",
   "id": "027f9145-62b1-4e12-8da3-574685003f25",
   "metadata": {},
   "source": [
    "#### 📄 `04_kubectl_installation.md`\n",
    "\n",
    "📂 Save to:\n",
    "\n",
    "```\n",
    "C:\\Users\\massa\\Desktop\\Python\\Reference\\AzureAI-Foundry\\04_kubectl_installation.md\n",
    "```\n",
    "\n",
    "\n",
    "---\n",
    "\n",
    "#### 📖 Title\n",
    "\n",
    "Install and Configure kubectl (Kubernetes CLI)\n",
    "\n",
    "---\n",
    "\n",
    "#### 📌 Purpose\n",
    "\n",
    "`kubectl` is the **Kubernetes command-line tool** used to:\n",
    "\n",
    "* Deploy and manage applications on Kubernetes clusters.\n",
    "* Inspect cluster resources (pods, deployments, services, nodes).\n",
    "* Debug workloads running in Azure Kubernetes Service (AKS), Docker Desktop Kubernetes, or Rancher.\n",
    "\n",
    "Since Azure AI Foundry workflows often use **Kubernetes for scaling AI workloads**, installing `kubectl` ensures you can manage both local (Docker Desktop K8s) and cloud (AKS) clusters.\n",
    "\n",
    "---\n"
   ]
  },
  {
   "cell_type": "markdown",
   "id": "559507c9-f34e-416d-b5c9-b3632803c702",
   "metadata": {},
   "source": [
    "#### 1. Install kubectl\n",
    "\n",
    "Download and install the latest version of kubectl using Azure CLI:\n",
    "\n",
    "```powershell\n",
    "az aks install-cli\n",
    "```\n",
    "\n",
    "This command will:\n",
    "\n",
    "* Download the latest kubectl release.\n",
    "* Add it to your PATH automatically.\n",
    "\n"
   ]
  },
  {
   "cell_type": "markdown",
   "id": "19685df7-2824-4c70-b25c-4213483baf7e",
   "metadata": {},
   "source": [
    "✅ <u>**Expected output** </u>"
   ]
  },
  {
   "cell_type": "markdown",
   "id": "972c6c02-9bd0-4a30-b30f-fa2e7066bade",
   "metadata": {},
   "source": [
    "(base) C:\\Users\\massa> az aks install-cli\n",
    "The detected architecture of current device is \"amd64\", and the binary for \"amd64\" will be downloaded. If the detection is wrong, please download and install the binary corresponding to the appropriate architecture.\n",
    "No version specified, will get the latest version of kubectl from \"https://dl.k8s.io/release/stable.txt\"\n",
    "Downloading client to \"C:\\Users\\massa\\.azure-kubectl\\kubectl.exe\" from \"https://dl.k8s.io/release/v1.34.1/bin/windows/amd64/kubectl.exe\"\n",
    "The installation directory \"C:\\Users\\massa\\.azure-kubectl\" has been successfully appended to the user path, the configuration will only take effect in the new command sessions. Please re-open the command window.\n",
    "\n",
    "No version specified, will get the latest version of kubelogin from \"https://api.github.com/repos/Azure/kubelogin/releases/latest\"\n",
    "Downloading client to \"C:\\Users\\massa\\AppData\\Local\\Temp\\tmp3gf88naj\\kubelogin.zip\" from \"https://github.com/Azure/kubelogin/releases/download/v0.2.10/kubelogin.zip\"\n",
    "Moving binary to \"C:\\Users\\massa\\.azure-kubelogin\\kubelogin.exe\" from \"C:\\Users\\massa\\AppData\\Local\\Temp\\tmp3gf88naj\\bin\\windows_amd64\\kubelogin.exe\"\n",
    "The installation directory \"C:\\Users\\massa\\.azure-kubelogin\" has been successfully appended to the user path, the configuration will only take effect in the new command sessions. Please re-open the command window."
   ]
  },
  {
   "cell_type": "markdown",
   "id": "a5b48a1e-5156-4124-b6b7-e0fabd3c4767",
   "metadata": {},
   "source": [
    "---"
   ]
  },
  {
   "cell_type": "markdown",
   "id": "749708fc-3898-4f21-b717-0023f4832668",
   "metadata": {},
   "source": [
    "#### 2. Verify kubectl Installation\n",
    "\n",
    "Check the version:\n",
    "\n",
    "```powershell\n",
    "kubectl version --client\n",
    "```\n",
    "\n",
    "✅ Expected output (version may differ):\n",
    "\n",
    "```\n",
    "Client Version: v1.31.0\n",
    "Kustomize Version: v5.0.1\n",
    "```\n",
    "\n"
   ]
  },
  {
   "cell_type": "code",
   "execution_count": null,
   "id": "2d10c1cd-51a7-4a16-ab47-b77ad1054516",
   "metadata": {},
   "outputs": [],
   "source": [
    "(base) C:\\Users\\massa> kubectl version --client\n",
    "Client Version: v1.32.2\n",
    "Kustomize Version: v5.5.0"
   ]
  },
  {
   "cell_type": "markdown",
   "id": "d732eeb5-a68b-471b-9df8-621ebb42f371",
   "metadata": {},
   "source": [
    "✅ <u>**Actual output - Massara** </u>"
   ]
  },
  {
   "cell_type": "code",
   "execution_count": null,
   "id": "815bc443-61a2-4b32-b0e8-63cdf54ecfde",
   "metadata": {},
   "outputs": [],
   "source": [
    "(base) C:\\Users\\massa> kubectl version --client\n",
    "Client Version: v1.32.2\n",
    "Kustomize Version: v5.5.0"
   ]
  },
  {
   "cell_type": "markdown",
   "id": "7ba60f68-e7e5-49b2-b53f-cfdc75230cac",
   "metadata": {},
   "source": [
    "---"
   ]
  },
  {
   "cell_type": "markdown",
   "id": "8fafaefa-aeb2-4bd9-a237-aac620e76620",
   "metadata": {},
   "source": [
    "\n",
    "#### 3. Test Connection (Local Docker Desktop Kubernetes)\n",
    "\n",
    "Since you have **Docker Desktop with Kubernetes enabled**, test kubectl against your local cluster:\n",
    "\n",
    "```powershell\n",
    "kubectl get nodes\n",
    "```\n",
    "\n",
    "✅ Expected output (simplified):\n",
    "\n",
    "```\n",
    "NAME             STATUS   ROLES           AGE   VERSION\n",
    "docker-desktop   Ready    control-plane   25d   v1.29.0\n",
    "```\n",
    "\n",
    "This confirms that kubectl can talk to your local cluster.\n"
   ]
  },
  {
   "cell_type": "markdown",
   "id": "e5a35cd4-2881-47c4-82a3-025c7e36f792",
   "metadata": {},
   "source": [
    "✅ <u>**Actual output - Massara** </u>"
   ]
  },
  {
   "cell_type": "code",
   "execution_count": null,
   "id": "e22fc151-3382-429d-a10e-c52f700c4c46",
   "metadata": {},
   "outputs": [],
   "source": [
    "(base) C:\\Users\\massa> kubectl get nodes\n",
    "NAME             STATUS   ROLES           AGE   VERSION\n",
    "docker-desktop   Ready    control-plane   18d   v1.32.2"
   ]
  },
  {
   "cell_type": "markdown",
   "id": "596b7964-eb84-46ed-a42f-387b4bc70470",
   "metadata": {},
   "source": [
    "---"
   ]
  },
  {
   "cell_type": "markdown",
   "id": "732386df-9cc1-460c-aed2-7ae55824057f",
   "metadata": {},
   "source": [
    "#### 4. Test Connection (Optional — Azure Kubernetes Service)\n",
    "\n",
    "⚠️ **Skip this step for now.**\n",
    "You have not created an AKS cluster yet — this is just a reference for the future.\n",
    "We will create an AKS cluster later in **Week 4: Deploying an AI Agent to Azure**.\n",
    "\n",
    "When that time comes, you will:\n",
    "\n",
    "1. Create an AKS cluster:\n",
    "\n",
    "   ```powershell\n",
    "   az aks create --resource-group NobelDynamicsRG --name NobelAKSCluster --node-count 1 --generate-ssh-keys\n",
    "   ```\n",
    "\n",
    "2. Pull credentials so kubectl can talk to it:\n",
    "\n",
    "   ```powershell\n",
    "   az aks get-credentials --resource-group NobelDynamicsRG --name NobelAKSCluster\n",
    "   ```\n",
    "\n",
    "3. Verify connection:\n",
    "\n",
    "   ```powershell\n",
    "   kubectl get nodes\n",
    "   ```\n",
    "\n",
    "✅ Expected result (simplified):\n",
    "\n",
    "```\n",
    "NAME               STATUS   ROLES   AGE   VERSION\n",
    "aks-nodepool1-...  Ready    agent   1d    v1.29.0\n",
    "```\n",
    "\n",
    "👉 For now, your kubectl works with **Docker Desktop Kubernetes**, which is enough for Phase 1–2.\n",
    "\n",
    "---\n",
    "\n"
   ]
  },
  {
   "cell_type": "markdown",
   "id": "718b0b54-f9d2-43e2-ac96-2ed7c31dacda",
   "metadata": {},
   "source": [
    "#### 📊 Summary\n",
    "\n",
    "At this point:\n",
    "\n",
    "* ✅ Installed kubectl with `az aks install-cli`.\n",
    "* ✅ Verified client version.\n",
    "* ✅ Confirmed kubectl connects to **Docker Desktop Kubernetes**.\n",
    "* ⬜ (Future) Will connect kubectl to **Azure Kubernetes Service (AKS)** in Week 4.\n",
    "\n",
    "Your setup is complete for now — kubectl is ready for managing local workloads, and AKS support will come later.\n",
    "\n",
    "---\n",
    "\n",
    "👉 Next step: **`05_helm_installation.md`** — install **Helm**, the Kubernetes package manager, to simplify deployments.\n",
    "\n",
    "---\n",
    "\n",
    "✅ Step 4 is explicit: **skip now, use later**, but still documented for future lessons.\n",
    "\n"
   ]
  },
  {
   "cell_type": "code",
   "execution_count": null,
   "id": "98ce55d5-d82a-4424-af92-b3e51abfbb3d",
   "metadata": {},
   "outputs": [],
   "source": []
  }
 ],
 "metadata": {
  "kernelspec": {
   "display_name": "Python [conda env:base] *",
   "language": "python",
   "name": "conda-base-py"
  },
  "language_info": {
   "codemirror_mode": {
    "name": "ipython",
    "version": 3
   },
   "file_extension": ".py",
   "mimetype": "text/x-python",
   "name": "python",
   "nbconvert_exporter": "python",
   "pygments_lexer": "ipython3",
   "version": "3.12.7"
  }
 },
 "nbformat": 4,
 "nbformat_minor": 5
}
