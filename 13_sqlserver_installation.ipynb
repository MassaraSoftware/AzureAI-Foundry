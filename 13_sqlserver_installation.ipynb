{
 "cells": [
  {
   "cell_type": "markdown",
   "id": "e44b0254-d2ca-4619-8610-721c6eca6508",
   "metadata": {},
   "source": [
    "#### 📘 Azure AI Foundry — SQL Server Installation & Setup\n",
    "\n",
    "### 📖 Title\n",
    "\n",
    "Install and Configure Microsoft SQL Server (Developer Edition)\n",
    "\n",
    "---\n",
    "\n",
    "### 📌 Purpose\n",
    "\n",
    "SQL Server is a widely used enterprise-grade database.\n",
    "In this project, you’ll use it for:\n",
    "\n",
    "* Practicing ETL pipelines (extract from SQL Server → transform → load to PostgreSQL / Azure).\n",
    "* Running analytics queries on large datasets.\n",
    "* Connecting Python via **ODBC** / **SQLAlchemy** for automation.\n",
    "* Testing **multi-database pipelines** (SQL Server ↔ PostgreSQL ↔ Azure).\n",
    "\n",
    "---"
   ]
  },
  {
   "cell_type": "markdown",
   "id": "4f06dc90-f2c3-4aff-b7a5-c08f6c166d0e",
   "metadata": {},
   "source": [
    "## 1. Install SQL Server\n",
    "\n",
    "📥 Download **SQL Server Developer Edition** (free, full features):\n",
    "👉 [SQL Server Downloads](https://www.microsoft.com/en-us/sql-server/sql-server-downloads)\n",
    "\n",
    "* Choose **Developer Edition** (NOT Express).\n",
    "* Run installer → select **Basic** or **Custom** install.\n",
    "\n",
    "📌 During install:\n",
    "\n",
    "* **Authentication**: Select **Mixed Mode (SQL + Windows Auth)**.\n",
    "* Set `sa` (system admin) password → `Mass592322`.\n",
    "* Default instance name: `MSSQLSERVER`.\n",
    "* Default port: `1433`.\n",
    "\n",
    "---"
   ]
  },
  {
   "cell_type": "markdown",
   "id": "2412d66a-0a15-439a-b6d5-7f1ed5256485",
   "metadata": {},
   "source": [
    "\n",
    "## 2. Install SQL Server Management Studio (SSMS)\n",
    "\n",
    "📥 Download SSMS:\n",
    "👉 [SQL Server Management Studio](https://aka.ms/ssmsfullsetup)\n",
    "\n",
    "* Install with defaults.\n",
    "* Open SSMS → connect using:\n",
    "\n",
    "```\n",
    "Server type: Database Engine  \n",
    "Server name: AI  \n",
    "Authentication: SQL Server Authentication  \n",
    "Login: sa  \n",
    "Password: Mass592322  \n",
    "```\n",
    "\n",
    "✅ You should now see the **SQL Server Object Explorer**.\n",
    "\n",
    "---"
   ]
  },
  {
   "cell_type": "markdown",
   "id": "c6ddc278-7cc1-4994-a769-9c3a86fae168",
   "metadata": {},
   "source": [
    "#### 3. Verify Installation (Command Line)\n",
    "\n",
    "Run in **PowerShell** (no need to activate base):\n",
    "\n",
    "```powershell\n",
    "sqlcmd -S AI -U sa -P \"Mass592322\" -Q \"SELECT @@VERSION;\"\n",
    "```\n"
   ]
  },
  {
   "cell_type": "markdown",
   "id": "c8eb6150-16eb-42bf-a440-971fca64133b",
   "metadata": {},
   "source": [
    "✅ <u>**Expected output - Massara:**</u>"
   ]
  },
  {
   "cell_type": "markdown",
   "id": "a45bac72-7798-44a5-99f8-bd7966ae019b",
   "metadata": {},
   "source": [
    "```\n",
    "C:\\Users\\massa> sqlcmd -S AI -U sa -P \"Mass592322\" -Q \"SELECT @@VERSION;\"\n",
    "                                                                                                                                                                                                                                                            \n",
    "------------------------------------------------------------------------------------------------------------------------------------------------------------------------------------------------------------------------------------------------------------------------------------------------------------\n",
    "Microsoft SQL Server 2022 (RTM) - 16.0.1000.6 (X64)\n",
    "        Oct  8 2022 05:58:25\n",
    "        Copyright (C) 2022 Microsoft Corporation\n",
    "        Developer Edition (64-bit) on Windows 10 Home 10.0 <X64> (Build 26100: ) (Hypervisor)\n",
    "\n",
    "\n",
    "(1 rows affected)\n",
    "```"
   ]
  },
  {
   "cell_type": "markdown",
   "id": "bad439db-3cdf-4a41-95d2-5e4936420ba8",
   "metadata": {},
   "source": [
    "---"
   ]
  },
  {
   "cell_type": "markdown",
   "id": "f9e7b055-6535-43d9-bf80-f31f39cab04c",
   "metadata": {},
   "source": [
    "#### 4. Enable & Configure `sa` Login (Fix Applied)\n",
    "\n",
    "If login with `sa` fails:\n",
    "\n",
    "1. Log in with **Windows Authentication** in SSMS.\n",
    "2. Right-click **Server (AI)** → **Properties** → **Security** → select **SQL Server and Windows Authentication mode**.\n",
    "3. Expand **Security → Logins → sa** → Properties:\n",
    "\n",
    "   * Reset password to: `Mass592322`.\n",
    "   * Under **Status** → set **Login: Enabled**.\n",
    "4. Restart `SQL Server (MSSQLSERVER)` from **SQL Server Configuration Manager**.\n",
    "\n",
    "✅ `sa` is now active and usable.\n",
    "\n",
    "---"
   ]
  },
  {
   "cell_type": "markdown",
   "id": "969520a5-c296-46a0-8c8b-e6a4dc2adce7",
   "metadata": {},
   "source": [
    "## 5. Create a Test Database\n",
    "\n",
    "Run inside **SSMS** (New Query):\n",
    "\n",
    "```sql\n",
    "CREATE DATABASE TestDB;\n",
    "GO\n",
    "USE TestDB;\n",
    "GO\n",
    "\n",
    "CREATE TABLE Users (\n",
    "    Id INT PRIMARY KEY IDENTITY(1,1),\n",
    "    Name NVARCHAR(50),\n",
    "    Email NVARCHAR(100)\n",
    ");\n",
    "\n",
    "INSERT INTO Users (Name, Email) VALUES ('Alice', 'alice@example.com');\n",
    "\n",
    "SELECT * FROM Users;\n",
    "```\n",
    "\n",
    "✅ Expected result:\n",
    "\n",
    "| Id | Name  | Email                                         |\n",
    "| -- | ----- | --------------------------------------------- |\n",
    "| 1  | Alice | [alice@example.com](mailto:alice@example.com) |\n",
    "\n",
    "---"
   ]
  },
  {
   "cell_type": "markdown",
   "id": "6e5efd44-5f37-4e80-8bd6-0bc3e29cb9e4",
   "metadata": {},
   "source": [
    "#### 6. Python Integration\n",
    "\n",
    "Install drivers in your **base environment**:\n",
    "\n",
    "```powershell\n",
    "conda activate base\n",
    "pip install pyodbc sqlalchemy\n",
    "```\n",
    "\n",
    "Verify install:\n",
    "\n",
    "```powershell\n",
    "python -c \"import pyodbc, sqlalchemy; print('✅ pyodbc + SQLAlchemy installed')\"\n",
    "```\n"
   ]
  },
  {
   "cell_type": "markdown",
   "id": "486c1efd-c73b-46f5-8761-72504a858cb6",
   "metadata": {},
   "source": [
    "✅ <u>**Expected output - Massara:**</u>"
   ]
  },
  {
   "cell_type": "markdown",
   "id": "240899e1-4a5d-40d1-90e8-bdd0ac37a93a",
   "metadata": {},
   "source": [
    "```\n",
    "(base) C:\\Users\\massa> python -c \"import pyodbc, sqlalchemy; print('✅ pyodbc + SQLAlchemy installed')\"\n",
    "✅ pyodbc + SQLAlchemy installed\n",
    "```"
   ]
  },
  {
   "cell_type": "markdown",
   "id": "bb744dce-53ec-45c1-9869-6598f3262dbb",
   "metadata": {},
   "source": [
    "---"
   ]
  },
  {
   "cell_type": "markdown",
   "id": "782a69e1-7a29-42da-afda-a59c7e2166dc",
   "metadata": {},
   "source": [
    "#### 7. Python Test Script\n",
    "\n",
    "📂 Save as:\n",
    "\n",
    "```\n",
    "C:\\Users\\massa\\Desktop\\Python\\Reference\\AzureAI-Foundry\\scripts\\test_sqlserver.py\n",
    "```\n",
    "\n",
    "```python\n",
    "import pyodbc\n",
    "\n",
    "# Connection settings\n",
    "server = \"AI\"\n",
    "database = \"TestDB\"\n",
    "username = \"sa\"\n",
    "password = \"Mass592322\"\n",
    "\n",
    "# Build connection string\n",
    "conn_str = (\n",
    "    \"DRIVER={ODBC Driver 18 for SQL Server};\"\n",
    "    f\"SERVER={server};\"\n",
    "    f\"DATABASE={database};\"\n",
    "    f\"UID={username};\"\n",
    "    f\"PWD={password};\"\n",
    "    \"TrustServerCertificate=yes;\"\n",
    ")\n",
    "\n",
    "try:\n",
    "    conn = pyodbc.connect(conn_str)\n",
    "    cursor = conn.cursor()\n",
    "    cursor.execute(\"SELECT @@VERSION;\")\n",
    "    row = cursor.fetchone()\n",
    "    print(\"✅ Connected to SQL Server\")\n",
    "    print(f\"Version: {row[0]}\")\n",
    "    conn.close()\n",
    "except Exception as e:\n",
    "    print(\"❌ Connection failed:\", e)\n",
    "```\n",
    "\n",
    "---"
   ]
  },
  {
   "cell_type": "markdown",
   "id": "0c9099b6-86bd-4890-98d4-82e2edfcf980",
   "metadata": {},
   "source": [
    "#### 8. Run the Script\n",
    "\n",
    "```powershell\n",
    "conda activate base\n",
    "cd \"C:\\Users\\massa\\Desktop\\Python\\Reference\\AzureAI-Foundry\"\n",
    "python scripts\\test_sqlserver.py\n",
    "```"
   ]
  },
  {
   "cell_type": "markdown",
   "id": "2cfe6c99-3c50-4db9-80ab-49e658d264f9",
   "metadata": {},
   "source": [
    "✅ <u>**Expected output - Massara:**</u>"
   ]
  },
  {
   "cell_type": "markdown",
   "id": "f944543c-ddd4-45eb-a495-ee6547957309",
   "metadata": {},
   "source": [
    "\n",
    "```\n",
    "(base) C:\\Users\\massa\\Desktop\\Python\\Reference\\AzureAI-Foundry> python scripts\\test_sqlserver.py\n",
    "✅ Connected to SQL Server\n",
    "Version: Microsoft SQL Server 2022 (RTM) - 16.0.1000.6 (X64)\n",
    "        Oct  8 2022 05:58:25\n",
    "        Copyright (C) 2022 Microsoft Corporation\n",
    "        Developer Edition (64-bit) on Windows 10 Home 10.0 <X64> (Build 26100: ) (Hypervisor)\n",
    "```"
   ]
  },
  {
   "cell_type": "markdown",
   "id": "f4163adf-ccdc-42c9-9f38-b5b183fc2431",
   "metadata": {},
   "source": [
    "---"
   ]
  },
  {
   "cell_type": "markdown",
   "id": "b59a5b3a-0763-40ef-a3c9-71103c4c1d5c",
   "metadata": {},
   "source": [
    "#### 9. Troubleshooting\n",
    "\n",
    "#### ❌ Error:\n",
    "\n",
    "```\n",
    "IM002: Data source name not found and no default driver specified\n",
    "```\n",
    "\n",
    "✅ Fix:\n",
    "\n",
    "* This means the **ODBC Driver for SQL Server** was missing or mismatched.\n",
    "* Solution: Install **ODBC Driver 18 for SQL Server** → [Download here](https://learn.microsoft.com/en-us/sql/connect/odbc/download-odbc-driver-for-sql-server).\n",
    "* Update your connection string to match installed driver:\n",
    "\n",
    "```text\n",
    "DRIVER={ODBC Driver 18 for SQL Server}\n",
    "```\n",
    "\n",
    "---\n",
    "\n",
    "## 📊 Summary\n",
    "\n",
    "* SQL Server **Developer Edition** installed.\n",
    "* **SSMS installed** and verified connection.\n",
    "* Switched to **Mixed Mode Authentication**.\n",
    "* `sa` account enabled with password: `Mass592322`.\n",
    "* Verified via SSMS + CLI (`sqlcmd`).\n",
    "* Created a **test database + table**.\n",
    "* Successfully connected via Python (`pyodbc`).\n",
    "* ✅ Fixed ODBC error by installing **ODBC Driver 18**.\n",
    "\n",
    "📂 Save as:\n",
    "`13_sqlserver_installation.md`\n",
    "\n",
    "---\n",
    "\n",
    "Would you like me to also create a **combined database diagram** (PostgreSQL + SQL Server + Azure AI Foundry) showing how all these tools link together in your ETL pipelines? That way you’ll have a big-picture visual to insert after section 9.\n"
   ]
  },
  {
   "cell_type": "code",
   "execution_count": null,
   "id": "f0bf21f3-7f7b-4647-8f9f-93faac80f045",
   "metadata": {},
   "outputs": [],
   "source": []
  }
 ],
 "metadata": {
  "kernelspec": {
   "display_name": "Python [conda env:base] *",
   "language": "python",
   "name": "conda-base-py"
  },
  "language_info": {
   "codemirror_mode": {
    "name": "ipython",
    "version": 3
   },
   "file_extension": ".py",
   "mimetype": "text/x-python",
   "name": "python",
   "nbconvert_exporter": "python",
   "pygments_lexer": "ipython3",
   "version": "3.12.7"
  }
 },
 "nbformat": 4,
 "nbformat_minor": 5
}
