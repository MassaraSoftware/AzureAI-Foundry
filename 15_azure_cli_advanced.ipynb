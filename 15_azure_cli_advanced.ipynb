{
 "cells": [
  {
   "cell_type": "markdown",
   "id": "27fd73a5-3172-48d8-b1ce-27abf9dcaaae",
   "metadata": {},
   "source": [
    "#### 📘 Azure AI Foundry — Advanced Azure CLI Usage\n",
    "\n",
    "#### 📖 Title\n",
    "\n",
    "Advanced Azure CLI for Role Assignments & IAM\n",
    "\n",
    "#### 📌 Purpose\n",
    "\n",
    "While the basic Azure CLI setup authenticated you and created your workspace, advanced usage is required for **role assignments** and **fine-grained access control**.\n",
    "\n",
    "This ensures:\n",
    "\n",
    "* You (as a user) can manage your Azure Storage (upload/download blobs).\n",
    "* Services like Azure AI Foundry can integrate with storage accounts securely.\n",
    "* Minimal permissions are granted at the correct **scope** (subscription, resource group, or resource).\n",
    "\n",
    "---"
   ]
  },
  {
   "cell_type": "markdown",
   "id": "9db7b558-aaf0-499f-ae79-538b54b4aa71",
   "metadata": {},
   "source": [
    "#### 1. Verify Current Role Assignments\n",
    "\n",
    "List all roles for your **resource group**:\n",
    "\n",
    "```powershell\n",
    "az role assignment list --resource-group NobelDynamicsRG --output table\n",
    "```\n",
    "\n",
    "✅ Expected output (simplified):\n",
    "\n",
    "```\n",
    "Principal                             Role                    Scope\n",
    "------------------------------------  ----------------------  -----------------------------------------------------------\n",
    "e155fe89-b772-48e6-848c-387f2ce308c5  Azure AI Administrator  /subscriptions/.../resourceGroups/NobelDynamicsRG\n",
    "```\n",
    "\n",
    "📌 This only shows roles **scoped at the resource group level**.\n",
    "\n",
    "---"
   ]
  },
  {
   "cell_type": "markdown",
   "id": "8c7e5c12-11ff-42b9-9f05-cb8ca6873e72",
   "metadata": {},
   "source": [
    "#### 2. List Role Assignments for a Specific Resource\n",
    "\n",
    "To see roles assigned **at the storage account level** (not just the group):\n",
    "\n",
    "```powershell\n",
    "az role assignment list `\n",
    "  --scope /subscriptions/4e72e1a7-c2d3-438d-ac49-7a013a697c08/resourceGroups/NobelDynamicsRG/providers/Microsoft.Storage/storageAccounts/nobelfoustoragecf4f1a19f `\n",
    "  --output table\n",
    "```\n",
    "\n",
    "✅ Example output:\n",
    "\n",
    "```\n",
    "Principal                                                Role                                      Scope\n",
    "-------------------------------------------------------  ----------------------------------------  -------------------------------------------------------------------------\n",
    "e155fe89-b772-48e6-848c-387f2ce308c5                     Storage Blob Data Contributor             .../storageAccounts/nobelfoustoragecf4f1a19f\n",
    "e155fe89-b772-48e6-848c-387f2ce308c5                     Storage File Data Privileged Contributor  .../storageAccounts/nobelfoustoragecf4f1a19f\n",
    "mterfassa_gmail.com#EXT#@mterfassagmail.onmicrosoft.com  Storage Blob Data Contributor             .../storageAccounts/nobelfoustoragecf4f1a19f\n",
    "```\n",
    "\n",
    "📌 This shows your account (`mterfassa@outlook.com`) now has **Storage Blob Data Contributor**.\n"
   ]
  },
  {
   "cell_type": "markdown",
   "id": "111d0274-8c56-4cd0-bdd8-f5ad1f1a0420",
   "metadata": {},
   "source": [
    "✅<u>**Actual Output - Masssara**</u>"
   ]
  },
  {
   "cell_type": "code",
   "execution_count": null,
   "id": "2593db5b-1489-4b66-9660-63652e776528",
   "metadata": {},
   "outputs": [],
   "source": [
    "C:\\Users\\massa> az role assignment list `\n",
    ">>   --scope /subscriptions/4e72e1a7-c2d3-438d-ac49-7a013a697c08/resourceGroups/NobelDynamicsRG/providers/Microsoft.Storage/storageAccounts/nobelfoustoragecf4f1a19f `\n",
    ">>   --output table\n",
    "Principal                                                Role                                      Scope\n",
    "-------------------------------------------------------  ----------------------------------------  -------------------------------------------------------------------------------------------------------------------------------------------------------\n",
    "e155fe89-b772-48e6-848c-387f2ce308c5                     Storage Blob Data Contributor             /subscriptions/4e72e1a7-c2d3-438d-ac49-7a013a697c08/resourceGroups/NobelDynamicsRG/providers/Microsoft.Storage/storageAccounts/nobelfoustoragecf4f1a19f\n",
    "e155fe89-b772-48e6-848c-387f2ce308c5                     Storage File Data Privileged Contributor  /subscriptions/4e72e1a7-c2d3-438d-ac49-7a013a697c08/resourceGroups/NobelDynamicsRG/providers/Microsoft.Storage/storageAccounts/nobelfoustoragecf4f1a19f\n",
    "mterfassa_gmail.com#EXT#@mterfassagmail.onmicrosoft.com  Storage Blob Data Contributor             /subscriptions/4e72e1a7-c2d3-438d-ac49-7a013a697c08/resourceGroups/NobelDynamicsRG/providers/Microsoft.Storage/storageAccounts/nobelfoustoragecf4f1a19f\n",
    "C:\\Users\\massa>"
   ]
  },
  {
   "cell_type": "markdown",
   "id": "9b69906a-e5ea-4cfa-9e10-2e5e941494e8",
   "metadata": {},
   "source": [
    "---"
   ]
  },
  {
   "cell_type": "markdown",
   "id": "6b7ac899-40a8-4013-b9e1-d7894018212a",
   "metadata": {},
   "source": [
    "#### 3. Assign a Role to Yourself\n",
    "\n",
    "Azure CLI role assignment requires an **Object ID**, not just your email.\n",
    "\n",
    "##### 3.1 Get Your Object ID\n",
    "\n",
    "```powershell\n",
    "az ad signed-in-user show --query id -o tsv\n",
    "```\n",
    "\n",
    "✅ Example output:\n",
    "\n",
    "```\n",
    "29dd4f55-02aa-4ac4-99bc-edc41eb67fb7\n",
    "```\n",
    "\n",
    "---"
   ]
  },
  {
   "cell_type": "markdown",
   "id": "d2db8f05-a656-4581-9ce5-b870584e73da",
   "metadata": {},
   "source": [
    "##### 3.2 Create Role Assignment\n",
    "\n",
    "Grant yourself **Storage Blob Data Contributor** access on the storage account:\n",
    "\n",
    "```powershell\n",
    "az role assignment create `\n",
    "  --assignee-object-id 29dd4f55-02aa-4ac4-99bc-edc41eb67fb7 `\n",
    "  --assignee-principal-type User `\n",
    "  --role \"Storage Blob Data Contributor\" `\n",
    "  --scope /subscriptions/4e72e1a7-c2d3-438d-ac49-7a013a697c08/resourceGroups/NobelDynamicsRG/providers/Microsoft.Storage/storageAccounts/nobelfoustoragecf4f1a19f\n",
    "```\n",
    "\n",
    "✅ Expected success output (truncated):\n",
    "\n",
    "```json\n",
    "{\n",
    "  \"principalName\": \"mterfassa_gmail.com#EXT#@mterfassagmail.onmicrosoft.com\",\n",
    "  \"principalType\": \"User\",\n",
    "  \"roleDefinitionName\": \"Storage Blob Data Contributor\",\n",
    "  \"scope\": \"/subscriptions/.../storageAccounts/nobelfoustoragecf4f1a19f\"\n",
    "}\n",
    "```"
   ]
  },
  {
   "cell_type": "markdown",
   "id": "ce284c0c-0080-4516-a86a-3a19f2ed5a33",
   "metadata": {},
   "source": [
    "✅<u>**Actual Output - Masssara**</u>"
   ]
  },
  {
   "cell_type": "code",
   "execution_count": null,
   "id": "bf1c52cf-be3d-4653-8c1d-43ea4aedb8d9",
   "metadata": {},
   "outputs": [],
   "source": [
    "C:\\Users\\massa> az role assignment create `\n",
    ">>   --assignee-object-id 29dd4f55-02aa-4ac4-99bc-edc41eb67fb7 `\n",
    ">>   --assignee-principal-type User `\n",
    ">>   --role \"Storage Blob Data Contributor\" `\n",
    ">>   --scope /subscriptions/4e72e1a7-c2d3-438d-ac49-7a013a697c08/resourceGroups/NobelDynamicsRG/providers/Microsoft.Storage/storageAccounts/nobelfoustoragecf4f1a19f\n",
    "{\n",
    "  \"condition\": null,\n",
    "  \"conditionVersion\": null,\n",
    "  \"createdBy\": \"29dd4f55-02aa-4ac4-99bc-edc41eb67fb7\",\n",
    "  \"createdOn\": \"2025-09-27T19:03:44.352471+00:00\",\n",
    "  \"delegatedManagedIdentityResourceId\": null,\n",
    "  \"description\": null,\n",
    "  \"id\": \"/subscriptions/4e72e1a7-c2d3-438d-ac49-7a013a697c08/resourceGroups/NobelDynamicsRG/providers/Microsoft.Storage/storageAccounts/nobelfoustoragecf4f1a19f/providers/Microsoft.Authorization/roleAssignments/00085da7-771a-48b7-b9ae-f0322f68e616\",\n",
    "  \"name\": \"00085da7-771a-48b7-b9ae-f0322f68e616\",\n",
    "  \"principalId\": \"29dd4f55-02aa-4ac4-99bc-edc41eb67fb7\",\n",
    "  \"principalName\": \"mterfassa_gmail.com#EXT#@mterfassagmail.onmicrosoft.com\",\n",
    "  \"principalType\": \"User\",\n",
    "  \"resourceGroup\": \"NobelDynamicsRG\",\n",
    "  \"roleDefinitionId\": \"/subscriptions/4e72e1a7-c2d3-438d-ac49-7a013a697c08/providers/Microsoft.Authorization/roleDefinitions/ba92f5b4-2d11-453d-a403-e96b0029c9fe\",\n",
    "  \"roleDefinitionName\": \"Storage Blob Data Contributor\",\n",
    "  \"scope\": \"/subscriptions/4e72e1a7-c2d3-438d-ac49-7a013a697c08/resourceGroups/NobelDynamicsRG/providers/Microsoft.Storage/storageAccounts/nobelfoustoragecf4f1a19f\",\n",
    "  \"type\": \"Microsoft.Authorization/roleAssignments\",\n",
    "  \"updatedBy\": \"29dd4f55-02aa-4ac4-99bc-edc41eb67fb7\",\n",
    "  \"updatedOn\": \"2025-09-27T19:03:44.352471+00:00\"\n",
    "}\n",
    "C:\\Users\\massa>"
   ]
  },
  {
   "cell_type": "markdown",
   "id": "d17786ef-9d60-4421-b9ca-de4701d127c9",
   "metadata": {},
   "source": [
    "---"
   ]
  },
  {
   "cell_type": "markdown",
   "id": "4278e8cb-aa7b-4c3a-af55-965d60c63aea",
   "metadata": {},
   "source": [
    "#### 4. Understanding Scopes\n",
    "\n",
    "* **Subscription scope** → applies to *all resources* in your subscription.\n",
    "* **Resource group scope** → applies only to resources in that group.\n",
    "* **Resource scope** → applies only to one resource (best practice, least privilege).\n",
    "\n",
    "✅ In this case, you correctly scoped the role **just to the storage account**.\n",
    "\n",
    "---\n",
    "\n",
    "#### 📊 Summary\n",
    "\n",
    "* Verified IAM roles at both **resource group** and **resource level**.\n",
    "* Learned how to get your **Object ID**.\n",
    "* Successfully granted yourself **Storage Blob Data Contributor** at the storage account scope.\n",
    "* Confirmed visibility in **Azure Storage Explorer**.\n",
    "\n",
    "📂 Save as:\n",
    "\n",
    "```\n",
    "15_azure_cli_advanced.md\n",
    "```\n",
    "\n",
    "---\n",
    "\n",
    "Would you like me to now **add a note in the master README milestones** marking this step as ✅ completed?\n"
   ]
  },
  {
   "cell_type": "code",
   "execution_count": null,
   "id": "be057825-43dd-4d54-bb8f-409bc5411ef2",
   "metadata": {},
   "outputs": [],
   "source": []
  }
 ],
 "metadata": {
  "kernelspec": {
   "display_name": "Python [conda env:base] *",
   "language": "python",
   "name": "conda-base-py"
  },
  "language_info": {
   "codemirror_mode": {
    "name": "ipython",
    "version": 3
   },
   "file_extension": ".py",
   "mimetype": "text/x-python",
   "name": "python",
   "nbconvert_exporter": "python",
   "pygments_lexer": "ipython3",
   "version": "3.12.7"
  }
 },
 "nbformat": 4,
 "nbformat_minor": 5
}
