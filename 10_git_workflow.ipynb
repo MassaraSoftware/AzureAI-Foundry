{
 "cells": [
  {
   "cell_type": "markdown",
   "id": "c741482f-9c16-4463-9163-31814afeff88",
   "metadata": {},
   "source": [
    "#### 📄 `10_git_workflow.md`\n",
    "\n",
    "📂 Save to:\n",
    "\n",
    "```\n",
    "C:\\Users\\massa\\Desktop\\Python\\Reference\\AzureAI-Foundry\\10_git_workflow.md\n",
    "```\n",
    "\n",
    "---\n",
    "\n",
    "#### 📘 Azure AI Foundry — Git Workflow (Daily Usage)\n",
    "\n",
    "---\n",
    "\n",
    "#### 📖 Title\n",
    "\n",
    "How to Manage Changes with Git (Local + GitHub Workflow)\n",
    "\n",
    "---\n",
    "\n",
    "#### 📌 Purpose\n",
    "\n",
    "This document explains the **daily Git workflow** you will use to:\n",
    "\n",
    "* Save changes to your **local repo**.\n",
    "* Sync with **GitHub remote**.\n",
    "* Stay up-to-date with changes if working with others (future-proof).\n",
    "* Avoid common mistakes like overwriting history or pushing unwanted files.\n",
    "\n",
    "---\n",
    "\n",
    "#### 1. Check Repo Status\n",
    "\n",
    "📌 **Run in PowerShell (inside your project folder):**\n",
    "\n",
    "```powershell\n",
    "cd \"C:\\Users\\massa\\Desktop\\Python\\Reference\\AzureAI-Foundry\"\n",
    "git status\n",
    "```\n",
    "\n",
    "✅ Shows:\n",
    "\n",
    "* Which files are **untracked** (new).\n",
    "* Which files are **modified** (edited).\n",
    "* Which branch you are on (`main`).\n",
    "\n",
    "---\n"
   ]
  },
  {
   "cell_type": "markdown",
   "id": "43311455-1d40-470f-b1ba-61acff8fb493",
   "metadata": {},
   "source": [
    "\n",
    "#### 2. Stage Changes\n",
    "\n",
    "To prepare files for commit:\n",
    "\n",
    "```powershell\n",
    "git add <filename>\n",
    "```\n",
    "\n",
    "Examples:\n",
    "\n",
    "```powershell\n",
    "git add 06_storage_explorer.ipynb\n",
    "git add scripts\\my_script.py\n",
    "```\n",
    "\n",
    "👉 Add **all changes at once**:\n",
    "\n",
    "```powershell\n",
    "git add .\n",
    "```\n",
    "\n",
    "✅ Staged files will appear in green when you run `git status`.\n",
    "\n",
    "---"
   ]
  },
  {
   "cell_type": "markdown",
   "id": "53422555-3489-40a7-9637-67d11ac0cb81",
   "metadata": {},
   "source": [
    "\n",
    "#### 3. Commit Changes\n",
    "\n",
    "Once staged, commit with a message:\n",
    "\n",
    "```powershell\n",
    "git commit -m \"Added Storage Explorer documentation\"\n",
    "```\n",
    "\n",
    "✅ Messages should be:\n",
    "\n",
    "* **Short (≤ 72 chars)**.\n",
    "* **Descriptive** (what + why, not how).\n",
    "\n",
    "Examples:\n",
    "\n",
    "* `\"Initial commit - environment setup\"`\n",
    "* `\"Added Helm NGINX demo (05b)\"`\n",
    "* `\"Updated VS Code PATH fix steps\"`\n",
    "\n",
    "---"
   ]
  },
  {
   "cell_type": "markdown",
   "id": "8bfbc8c8-bd5a-4d20-9409-fe26e6a186e3",
   "metadata": {},
   "source": [
    "#### 4. Push to GitHub\n",
    "\n",
    "Send your commits to GitHub:\n",
    "\n",
    "```powershell\n",
    "git push\n",
    "```\n",
    "\n",
    "✅ Because we set up `-u origin main` earlier, Git remembers the remote branch.\n",
    "\n",
    "Expected:\n",
    "\n",
    "```\n",
    "Enumerating objects: ...\n",
    "Writing objects: ...\n",
    "To github.com:MassaraSoftware/AzureAI-Foundry.git\n",
    "```"
   ]
  },
  {
   "cell_type": "markdown",
   "id": "1cb7328c-467d-4a54-a279-e59731054280",
   "metadata": {},
   "source": [
    "✅<u>**Expected output - Massara**</u>"
   ]
  },
  {
   "cell_type": "code",
   "execution_count": null,
   "id": "8a4a25d7-c151-4865-8f49-bd8636afbe79",
   "metadata": {},
   "outputs": [],
   "source": [
    "C:\\Users\\massa\\Desktop\\Python\\Reference\\AzureAI-Foundry> git push\n",
    "Enter passphrase for key '/c/Users/massa/.ssh/id_ed25519':\n",
    "Enumerating objects: 5, done.\n",
    "Counting objects: 100% (5/5), done.\n",
    "Delta compression using up to 22 threads\n",
    "Compressing objects: 100% (4/4), done.\n",
    "Writing objects: 100% (4/4), 5.87 KiB | 2.94 MiB/s, done.\n",
    "Total 4 (delta 1), reused 0 (delta 0), pack-reused 0 (from 0)\n",
    "remote: Resolving deltas: 100% (1/1), completed with 1 local object.\n",
    "To github.com:MassaraSoftware/AzureAI-Foundry.git\n",
    "   b79af54..3c5037c  main -> main"
   ]
  },
  {
   "cell_type": "markdown",
   "id": "47f6be6e-eb73-456c-9e48-f433276ab7c8",
   "metadata": {},
   "source": [
    "---"
   ]
  },
  {
   "cell_type": "markdown",
   "id": "599280d6-36d6-47cf-813b-02626fdbe2b6",
   "metadata": {},
   "source": [
    "\n",
    "#### 5. Pull Latest Changes\n",
    "\n",
    "If working on another computer (or with collaborators), always pull first:\n",
    "\n",
    "```powershell\n",
    "git pull\n",
    "```\n",
    "\n",
    "* If you are the **only one pushing**, you’ll rarely get conflicts.\n",
    "* If others are editing, `git pull` merges their work into yours.\n",
    "\n",
    "---"
   ]
  },
  {
   "cell_type": "markdown",
   "id": "0dde02d1-192a-45e7-924f-72395fb9bee1",
   "metadata": {},
   "source": [
    "#### 6. View History\n",
    "\n",
    "Check your commit history:\n",
    "\n",
    "```powershell\n",
    "git log --oneline --graph\n",
    "```\n",
    "\n",
    "✅ Example output:\n",
    "\n",
    "```\n",
    "a7b1c2d (HEAD -> main, origin/main) Updated VS Code PATH fix\n",
    "f34d5e1 Added Helm NGINX demo (05b)\n",
    "9a8b7c6 Initial commit - environment setup\n",
    "```\n",
    "\n",
    "---"
   ]
  },
  {
   "cell_type": "markdown",
   "id": "86812aaa-0272-4904-890a-9ab2c41c3b3b",
   "metadata": {},
   "source": [
    "✅<u>**Expected output - Massara**</u>"
   ]
  },
  {
   "cell_type": "code",
   "execution_count": null,
   "id": "edade41e-d092-4149-a767-75111f3c8428",
   "metadata": {},
   "outputs": [],
   "source": [
    "C:\\Users\\massa\\Desktop\\Python\\Reference\\AzureAI-Foundry> git log --oneline --graph\n",
    "* 3c5037c (HEAD -> main, origin/main, origin/HEAD) Added Storage Explorer documentation\n",
    "* b79af54 Initial commit - environment setup, project structure, and gitignore"
   ]
  },
  {
   "cell_type": "markdown",
   "id": "b40d6c2e-dd47-4a9e-8337-79bdf5fd9cae",
   "metadata": {},
   "source": [
    "---"
   ]
  },
  {
   "cell_type": "markdown",
   "id": "36d488e4-9f8a-4869-9451-cc4417ca34fa",
   "metadata": {},
   "source": [
    "#### 7. Undo Mistakes\n",
    "\n",
    "* Unstage a file:\n",
    "\n",
    "```powershell\n",
    "git reset <filename>\n",
    "```\n",
    "\n",
    "* Undo local changes (⚠️ destructive):\n",
    "\n",
    "```powershell\n",
    "git checkout -- <filename>\n",
    "```\n",
    "\n",
    "* Undo last commit (keep changes staged):\n",
    "\n",
    "```powershell\n",
    "git reset --soft HEAD~1\n",
    "```\n",
    "\n",
    "---"
   ]
  },
  {
   "cell_type": "markdown",
   "id": "c772a55d-7fee-4785-ad76-a1cb13bfa182",
   "metadata": {},
   "source": [
    "#### 8. .gitignore Reminder\n",
    "\n",
    "Your `.gitignore` prevents clutter. Example entries you already have:\n",
    "\n",
    "```\n",
    "__pycache__/\n",
    "*.pyc\n",
    ".env/\n",
    ".venv/\n",
    ".ipynb_checkpoints/\n",
    "logs/\n",
    "*.log\n",
    "```\n",
    "\n",
    "👉 Always double-check `git status` before committing to ensure unwanted files aren’t included.\n",
    "\n",
    "---"
   ]
  },
  {
   "cell_type": "markdown",
   "id": "af36c805-47ed-44c8-837a-76e2890f59dc",
   "metadata": {},
   "source": [
    "\n",
    "#### 9. Daily Workflow Cheat Sheet\n",
    "\n",
    "Here’s your **copy-paste daily cycle**:\n",
    "\n",
    "```powershell\n",
    "# 1. Check status\n",
    "git status\n",
    "\n",
    "# 2. Stage changes\n",
    "git add .\n",
    "\n",
    "# 3. Commit changes\n",
    "git commit -m \"Your commit message here\"\n",
    "\n",
    "# 4. Push to GitHub\n",
    "git push\n",
    "\n",
    "# 5. (Optional) Pull before starting work\n",
    "git pull\n",
    "```\n",
    "\n",
    "---"
   ]
  },
  {
   "cell_type": "markdown",
   "id": "d40616c4-cc3e-4e50-8aad-36f49e5b2ce8",
   "metadata": {},
   "source": [
    "#### 10. Verify on GitHub\n",
    "\n",
    "After `git push`:\n",
    "\n",
    "1. Go to → [https://github.com/MassaraSoftware/AzureAI-Foundry](https://github.com/MassaraSoftware/AzureAI-Foundry).\n",
    "2. Confirm your new commit appears under **Commits**.\n",
    "3. Files should match your local project.\n",
    "\n",
    "---"
   ]
  },
  {
   "cell_type": "markdown",
   "id": "d61ee960-3940-421e-9c41-b03eb218a876",
   "metadata": {},
   "source": [
    "#### 📊 Summary\n",
    "\n",
    "At this point you can:\n",
    "\n",
    "* ✅ Track changes locally (`git add`, `git commit`).\n",
    "* ✅ Sync to GitHub (`git push`).\n",
    "* ✅ Stay up-to-date (`git pull`).\n",
    "* ✅ Roll back or undo mistakes if needed.\n",
    "\n",
    "This completes the **daily Git cycle** for your AzureAI-Foundry project.\n",
    "\n",
    "---\n",
    "\n",
    "👉 Question for you: do you want me to also add a **branching workflow (feature branches, merging, PRs)** in this doc, or keep it simple (single `main` branch) for now?\n"
   ]
  },
  {
   "cell_type": "code",
   "execution_count": null,
   "id": "7c5544f3-1290-4db2-b84d-42547722d994",
   "metadata": {},
   "outputs": [],
   "source": []
  }
 ],
 "metadata": {
  "kernelspec": {
   "display_name": "Python [conda env:base] *",
   "language": "python",
   "name": "conda-base-py"
  },
  "language_info": {
   "codemirror_mode": {
    "name": "ipython",
    "version": 3
   },
   "file_extension": ".py",
   "mimetype": "text/x-python",
   "name": "python",
   "nbconvert_exporter": "python",
   "pygments_lexer": "ipython3",
   "version": "3.12.7"
  }
 },
 "nbformat": 4,
 "nbformat_minor": 5
}
